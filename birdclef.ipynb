{
 "cells": [
  {
   "cell_type": "markdown",
   "metadata": {},
   "source": [
    "# BirdCLEF 2025 Competition: Bird Song Classification\n",
    "\n",
    "## Introduction\n",
    "\n",
    "This notebook explores the BirdCLEF 2025 competition, a machine learning challenge focused on bird song classification. The competition is hosted on Kaggle and aims to develop algorithms that can identify bird species from audio recordings.\n",
    "\n",
    "Bird song classification is a challenging task with important applications in biodiversity monitoring, conservation efforts, and ecological research. Automated identification systems can help researchers process large volumes of audio data collected in the field, enabling more efficient and comprehensive studies of bird populations and behavior.\n",
    "\n",
    "### Competition Overview\n",
    "- **Goal**: Classify bird songs into one of 2000+ species\n",
    "- **Dataset**: Audio recordings of bird vocalizations with species labels\n",
    "- **Evaluation**: Models will be assessed on their ability to correctly identify bird species from audio samples\n",
    "- **Competition Link**: [BirdCLEF 2025 on Kaggle](https://www.kaggle.com/competitions/birdclef-2025/overview)\n",
    "\n",
    "Let's begin by exploring the dataset structure and understanding the nature of the bird song recordings we'll be working with."
   ]
  },
  {
   "cell_type": "markdown",
   "metadata": {},
   "source": [
    "### Files\n",
    "**train_audio/** The training data consists of short recordings of individual bird, amphibian, mammal and insects sounds generously uploaded by users of xeno-canto.org, iNaturalist and the Colombian Sound Archive (CSA) of the Humboldt Institute for Biological Resources Research in Colombia. These files have been resampled to 32 kHz where applicable to match the test set audio and converted to the `ogg` format. Filenames consist of `[collection][file_id_in_collection].ogg`. The training data should have nearly all relevant files; we expect there is no benefit to looking for more on xeno-canto.org or iNaturalist and appreciate your cooperation in limiting the burden on their servers. If you do, please make sure to adhere to the scraping rules of these data portals.\n",
    "\n",
    "**test_soundscapes/** When you submit a notebook, the **test_soundscapes** directory will be populated with approximately 700 recordings to be used for scoring. They are 1 minute long and in `ogg` audio format, resampled to 32 kHz. The file names are randomized, but have the general form of `soundscape_xxxxxx.ogg`. It should take your submission notebook approximately five minutes to load all the test soundscapes. Not all species from the train data actually occur in the test data.\n",
    "\n",
    "**train_soundscapes/** Unlabeled audio data from the same recording locations as the test soundscapes. Filenames consist of `[site]_[date]_[local_time].ogg`; although recorded at the same location, precise recording sites of unlabeled soundscapes do NOT overlap with recording sites of the hidden test data.\n",
    "\n",
    "**train.csv** A wide range of metadata is provided for the training data. The most directly relevant fields are:\n",
    "\n",
    "- `primary_label`: A code for the species (eBird code for birds, iNaturalist taxon ID for non-birds). You can review detailed information about the species by appending codes to eBird and iNaturalis taxon URL, such as `https://ebird.org/species/gretin1` for the Great Tinamou or `https://www.inaturalist.org/taxa/24322` for the Red Snouted Tree Frog. Not all species have their own pages; some links might fail.\n",
    "- `secondary_labels`: List of species labels that have been marked by recordists to also occur in the recording. Can be incomplete.\n",
    "- `latitude` & `longitude`: Coordinates for where the recording was taken. Some bird species may have local call 'dialects,' so you may want to seek geographic diversity in your training data.\n",
    "- `author`: The user who provided the recording. Unknown if no name was provided.\n",
    "- `filename`: The name of the associated audio file.\n",
    "- `rating`: Values in 1..5 (1 - low quality, 5 - high quality) provided by users of Xeno-canto; 0 implies no rating is available; iNaturalist and the CSA do not provide quality ratings.\n",
    "- `collection`: Either `XC`, `iNat` or `CSA`, indicating which collection the recording was taken from. Filenames also reference the collection and the ID within that collection.\n",
    "\n",
    "**sample_submission.csv** A valid sample submission.\n",
    "\n",
    "- `row_id`: A slug of `soundscape_[soundscape_id]_[end_time]` for the prediction; e.g., Segment 00:15-00:20 of 1-minute test soundscape `soundscape_12345.ogg` has row ID `soundscape_12345_20`.\n",
    "- `[species_id]`: There are 206 species ID columns. You will need to predict the probability of the presence of each species for each row.\n",
    "\n",
    "**taxonomy.csv** - Data on the different species, including iNaturalist taxon ID and class name (Aves, Amphibia, Mammalia, Insecta).\n",
    "\n",
    "**recording_location.txt** - Some high-level information on the recording location (El Silencio Natural Reserve)."
   ]
  },
  {
   "cell_type": "markdown",
   "metadata": {},
   "source": [
    "In a nutshell, here is what we will do with the training data:\n",
    "\n",
    "1. **train_audio/**\n",
    "   - Contains individual, labeled bird sounds\n",
    "   - These are clean, single-species recordings\n",
    "   - Primary use: This will be our main training data for learning species-specific features\n",
    "1. **train_soundscapes/**\n",
    "   - Contains full 1-minute recordings from actual environments\n",
    "   - Contains background noise, multiple species\n",
    "   - Similar to the test data format\n",
    "   - Primary use: Fine-tuning and validation"
   ]
  },
  {
   "cell_type": "code",
   "execution_count": 10,
   "metadata": {},
   "outputs": [],
   "source": [
    "import glob\n",
    "import numpy as np\n",
    "import os\n",
    "import pandas as pd\n",
    "from pathlib import Path\n",
    "import torch\n",
    "import torchaudio\n",
    "import torchaudio.transforms as AT\n",
    "from tqdm.notebook import tqdm"
   ]
  },
  {
   "cell_type": "markdown",
   "metadata": {},
   "source": [
    "From the [BirdNET paper](https://www.sciencedirect.com/science/article/pii/S1574954121000273), we can extract the following key insights:\n",
    "1. Spectrogram Parameters:\n",
    "   - Using mel-spectrograms with 64 bands\n",
    "   - Frequency range: 150 Hz to 15 kHz\n",
    "   - FFT window size adjusted for 32kHz sampling rate\n",
    "   - 25% overlap between frames\n",
    "2. Signal Processing:\n",
    "   - 3-second chunks for processing\n",
    "   - Signal strength-based detection for extracting relevant segments\n",
    "   - Log scaling for magnitude (better for noisy environments)\n",
    "3. Data Augmentation:\n",
    "   - Pitch shifting within the frequency range\n",
    "   - Temporal shifting within the 3-second window\n"
   ]
  },
  {
   "cell_type": "code",
   "execution_count": 23,
   "metadata": {},
   "outputs": [],
   "source": [
    "class BirdSongPreprocessor:\n",
    "    def __init__(self):\n",
    "        # Key parameters from the paper:\n",
    "        self.sample_rate = 32000  # Competition data is 32kHz\n",
    "        self.n_fft = 1024  # FFT window size (~32ms at 32kHz)\n",
    "        self.hop_length = 256  # 25% overlap as mentioned in BirdNET paper\n",
    "        self.f_min = 150  # Min frequency 150 Hz\n",
    "        self.f_max = 15000  # Max frequency 15 kHz\n",
    "        self.n_mels = 64  # 64 mel bands\n",
    "        \n",
    "        # Initialize mel spectrogram transformer\n",
    "        self.mel_spectrogram = AT.MelSpectrogram(\n",
    "            sample_rate=self.sample_rate,\n",
    "            n_fft=self.n_fft,\n",
    "            win_length=self.n_fft,\n",
    "            hop_length=self.hop_length,\n",
    "            f_min=self.f_min,\n",
    "            f_max=self.f_max,\n",
    "            n_mels=self.n_mels,\n",
    "            mel_scale=\"htk\",  # Using HTK-style mel scaling\n",
    "            power=2.0,  # Power spectrogram\n",
    "            normalized=True,\n",
    "            norm='slaney'  # Slaney-style mel normalization\n",
    "        )\n",
    "\n",
    "    def extract_signal_segments(self, waveform, threshold=0.5):\n",
    "        \"\"\"\n",
    "        Extract segments containing bird vocalizations based on signal strength\n",
    "        Similar to Sprengel et al., 2016 approach mentioned in the paper\n",
    "        \"\"\"\n",
    "        # Convert to spectrogram\n",
    "        spec = self.mel_spectrogram(waveform)\n",
    "        \n",
    "        # Calculate signal strength (simplified version)\n",
    "        signal_strength = torch.mean(spec, dim=1)  # Average across frequency bins\n",
    "        \n",
    "        # Find segments above threshold\n",
    "        mask = signal_strength > (threshold * torch.max(signal_strength))\n",
    "        \n",
    "        return mask\n",
    "\n",
    "    def process_audio(self, audio_path, segment_duration=3.0):\n",
    "        \"\"\"\n",
    "        Process audio file into mel spectrograms\n",
    "        Uses 3-second chunks as recommended in the paper\n",
    "        \"\"\"\n",
    "        # Load audio\n",
    "        waveform, sr = torchaudio.load(audio_path)\n",
    "        \n",
    "        # Resample if necessary\n",
    "        if sr != self.sample_rate:\n",
    "            resampler = AT.Resample(sr, self.sample_rate)\n",
    "            waveform = resampler(waveform)\n",
    "        \n",
    "        # Calculate number of samples for segment_duration\n",
    "        segment_samples = int(segment_duration * self.sample_rate)\n",
    "        \n",
    "        # Extract segments with bird sounds\n",
    "        signal_mask = self.extract_signal_segments(waveform)\n",
    "        \n",
    "        # Find continuous segments where signal is present\n",
    "        segments = []\n",
    "        start_idx = None\n",
    "        \n",
    "        for i, is_signal in enumerate(signal_mask[0]):  # [0] because waveform has shape [1, length]\n",
    "            if is_signal and start_idx is None:\n",
    "                start_idx = i\n",
    "            elif not is_signal and start_idx is not None:\n",
    "                # Extract segment\n",
    "                end_idx = i\n",
    "                if end_idx - start_idx >= segment_samples:\n",
    "                    segment = waveform[:, start_idx:start_idx + segment_samples]\n",
    "                    segments.append(segment)\n",
    "                start_idx = None\n",
    "        \n",
    "        # If no segments found or they're too short, use the whole audio\n",
    "        if not segments:\n",
    "            # Pad or truncate to segment_duration\n",
    "            if waveform.shape[1] < segment_samples:\n",
    "                # Pad\n",
    "                padding = segment_samples - waveform.shape[1]\n",
    "                waveform = torch.nn.functional.pad(waveform, (0, padding))\n",
    "            else:\n",
    "                # Take center segment\n",
    "                start = (waveform.shape[1] - segment_samples) // 2\n",
    "                waveform = waveform[:, start:start + segment_samples]\n",
    "            segments = [waveform]\n",
    "        \n",
    "        # Process all segments to mel spectrograms\n",
    "        mel_specs = []\n",
    "        for segment in segments:\n",
    "            # Convert to mel spectrogram\n",
    "            mel_spec = self.mel_spectrogram(segment)\n",
    "            # Apply log scaling (nonlinear magnitude scale as mentioned in paper)\n",
    "            mel_spec = torch.log(mel_spec + 1e-9)\n",
    "            mel_specs.append(mel_spec)\n",
    "        \n",
    "        # Stack all spectrograms if multiple segments\n",
    "        return torch.stack(mel_specs) if len(mel_specs) > 1 else mel_specs[0]\n",
    "\n",
    "    def augment_audio(self, waveform):\n",
    "        \"\"\"\n",
    "        Implement augmentations mentioned in the paper\n",
    "        \"\"\"\n",
    "        # Pitch shift within the frequency range\n",
    "        pitch_shift = AT.PitchShift(self.sample_rate, n_steps=2)\n",
    "\n",
    "        # Apply pitch shift\n",
    "        augmented = waveform\n",
    "        if np.random.random() > 0.5:\n",
    "            augmented = pitch_shift(augmented)\n",
    "\n",
    "        # Time stretch using a different approach\n",
    "        if np.random.random() > 0.5:\n",
    "            stretch_factor = np.random.uniform(0.9, 1.1)\n",
    "            length = augmented.shape[1]\n",
    "            new_length = int(length * stretch_factor)\n",
    "            augmented = AT.Resample(\n",
    "                self.sample_rate, int(self.sample_rate * stretch_factor)\n",
    "            )(augmented)\n",
    "\n",
    "            # Pad or trim to maintain original length\n",
    "            if new_length > length:\n",
    "                augmented = augmented[:, :length]\n",
    "            else:\n",
    "                augmented = torch.nn.functional.pad(augmented, (0, length - new_length))\n",
    "\n",
    "        return augmented\n",
    "    \n",
    "    def augment_spectrogram(self, spec, ambient_specs=None):\n",
    "        \"\"\"\n",
    "        Apply domain-specific augmentations to spectrograms as described in BirdNET paper\n",
    "\n",
    "        Args:\n",
    "            spec (torch.Tensor): Input spectrogram\n",
    "            ambient_specs (list): List of ambient noise spectrograms from non-salient chunks\n",
    "        \"\"\"\n",
    "        # Maximum of three augmentations per sample as mentioned in the paper\n",
    "        num_augmentations = np.random.randint(1, 4)\n",
    "        augmented = spec.clone()\n",
    "\n",
    "        # List of possible augmentations\n",
    "        augmentations = [\n",
    "            self._frequency_shift,\n",
    "            self._time_shift,\n",
    "            self._spec_warp,\n",
    "            lambda x: self._add_ambient_noise(x, ambient_specs) if ambient_specs else x,\n",
    "        ]\n",
    "\n",
    "        # Randomly select and apply augmentations\n",
    "        selected_augs = np.random.choice(\n",
    "            augmentations, size=num_augmentations, replace=False\n",
    "        )\n",
    "\n",
    "        for aug in selected_augs:\n",
    "            if np.random.random() > 0.5:  # 0.5 probability as mentioned in paper\n",
    "                augmented = aug(augmented)\n",
    "\n",
    "        return augmented\n",
    "\n",
    "    def _frequency_shift(self, spec, max_shift=10):\n",
    "        \"\"\"Vertical roll - Shift in frequency domain\"\"\"\n",
    "        shift = np.random.randint(-max_shift, max_shift)\n",
    "        return torch.roll(spec, shifts=shift, dims=1)\n",
    "\n",
    "    def _time_shift(self, spec, max_shift=50):\n",
    "        \"\"\"Horizontal roll - Shift in time domain\"\"\"\n",
    "        shift = np.random.randint(-max_shift, max_shift)\n",
    "        return torch.roll(spec, shifts=shift, dims=2)\n",
    "\n",
    "    def _spec_warp(self, spec):\n",
    "        \"\"\"\n",
    "        Spectrogram warping similar to SpecAugment\n",
    "        Applies random partial stretching in time and frequency\n",
    "        \"\"\"\n",
    "        freq_dim, time_dim = spec.shape[1:]\n",
    "\n",
    "        # Create warping parameters\n",
    "        w = np.random.randint(5, 20)  # window size\n",
    "        center_freq = np.random.randint(w, freq_dim - w)\n",
    "        center_time = np.random.randint(w, time_dim - w)\n",
    "\n",
    "        # Create warping matrix\n",
    "        factor = np.random.uniform(0.8, 1.2)\n",
    "        warped = spec.clone()\n",
    "\n",
    "        # Apply warping around center point\n",
    "        warped[\n",
    "            :, center_freq - w : center_freq + w, center_time - w : center_time + w\n",
    "        ] *= factor\n",
    "\n",
    "        return warped\n",
    "\n",
    "    def _add_ambient_noise(self, spec, ambient_specs, max_weight=0.5):\n",
    "        \"\"\"Add random ambient noise from non-salient chunks\"\"\"\n",
    "        if not ambient_specs:\n",
    "            return spec\n",
    "            \n",
    "        # Get target shape\n",
    "        _, freq_dim, time_dim = spec.shape\n",
    "        \n",
    "        # Randomly select an ambient noise spectrogram\n",
    "        noise_spec = ambient_specs[np.random.randint(len(ambient_specs))]\n",
    "        \n",
    "        # Resize noise spectrogram to match target shape\n",
    "        if noise_spec.shape[1:] != spec.shape[1:]:\n",
    "            # Center crop or pad the time dimension\n",
    "            if noise_spec.shape[2] > time_dim:\n",
    "                # Center crop\n",
    "                start = (noise_spec.shape[2] - time_dim) // 2\n",
    "                noise_spec = noise_spec[:, :, start:start + time_dim]\n",
    "            else:\n",
    "                # Pad\n",
    "                pad_size = time_dim - noise_spec.shape[2]\n",
    "                pad_left = pad_size // 2\n",
    "                pad_right = pad_size - pad_left\n",
    "                noise_spec = torch.nn.functional.pad(noise_spec, (pad_left, pad_right))\n",
    "    \n",
    "        # Random weighting for noise\n",
    "        weight = np.random.uniform(0, max_weight)\n",
    "        \n",
    "        # Add weighted noise\n",
    "        augmented = (1 - weight) * spec + weight * noise_spec\n",
    "        \n",
    "        return augmented\n",
    "\n",
    "    def collect_ambient_noise(self, audio_path, threshold=0.3):\n",
    "        \"\"\"\n",
    "        Collect non-salient chunks for ambient noise augmentation\n",
    "        \"\"\"\n",
    "        waveform, sr = torchaudio.load(audio_path)\n",
    "        if sr != self.sample_rate:\n",
    "            resampler = AT.Resample(sr, self.sample_rate)\n",
    "            waveform = resampler(waveform)\n",
    "\n",
    "        # Get signal mask\n",
    "        signal_mask = self.extract_signal_segments(waveform, threshold)\n",
    "\n",
    "        # Collect non-salient chunks (where signal is below threshold)\n",
    "        non_salient_mask = ~signal_mask\n",
    "\n",
    "        if non_salient_mask.any():\n",
    "            # Convert to spectrogram\n",
    "            spec = self.mel_spectrogram(waveform)\n",
    "            spec = torch.log(spec + 1e-9)\n",
    "\n",
    "            # Only keep non-salient parts\n",
    "            return spec * non_salient_mask.float()\n",
    "\n",
    "        return None"
   ]
  },
  {
   "cell_type": "code",
   "execution_count": 24,
   "metadata": {},
   "outputs": [],
   "source": [
    "# Initialize preprocessor\n",
    "preprocessor = BirdSongPreprocessor()\n",
    "\n",
    "def prepare_batch(audio_files, save_dir=\"train_audio_processed\", training=True, show_progress=True):\n",
    "    \"\"\"\n",
    "    Prepare a batch of audio files for model training or inference\n",
    "\n",
    "    Args:\n",
    "        audio_files (list): List of audio file paths\n",
    "        save_dir (str): Directory to save the processed audio files\n",
    "        training (bool): Whether to apply augmentation\n",
    "        show_progress (bool): Whether to show progress bars\n",
    "    \"\"\"\n",
    "\n",
    "    # create save_dir if it doesn't exist\n",
    "    save_dir = Path(save_dir)\n",
    "    save_dir.mkdir(parents=True, exist_ok=True)\n",
    "\n",
    "    # create metadata file to store mapping\n",
    "    metadata = []\n",
    "    specs = []\n",
    "    ambient_specs = []\n",
    "\n",
    "    # Group files by folder for better progress tracking\n",
    "    files_by_folder = {}\n",
    "    for file in audio_files:\n",
    "        folder = os.path.basename(os.path.dirname(file))\n",
    "        if folder not in files_by_folder:\n",
    "            files_by_folder[folder] = []\n",
    "        files_by_folder[folder].append(file)\n",
    "\n",
    "    # First collect ambient noise\n",
    "    ambient_folder_iter = tqdm(\n",
    "        files_by_folder.items(),\n",
    "        desc=\"Collecting ambient noise samples\",\n",
    "        disable=not show_progress,\n",
    "    )\n",
    "    if training:\n",
    "        # Parameters for sampling\n",
    "        max_files_per_folder = 3  # Maximum files to check per folder\n",
    "        target_noise_samples = 1000  # Target number of noise samples to collect\n",
    "        \n",
    "        ambient_specs = []\n",
    "        for folder, folder_files in ambient_folder_iter:\n",
    "            # Randomly sample files from this folder\n",
    "            sampled_files = np.random.choice(\n",
    "                folder_files,\n",
    "                size=min(max_files_per_folder, len(folder_files)),\n",
    "                replace=False\n",
    "            )\n",
    "            \n",
    "            for audio_file in tqdm(\n",
    "                sampled_files, \n",
    "                desc=f\"Sampling noise from {folder}\", \n",
    "                leave=False, \n",
    "                disable=not show_progress\n",
    "            ):\n",
    "                ambient_spec = preprocessor.collect_ambient_noise(audio_file)\n",
    "                if ambient_spec is not None:\n",
    "                    ambient_specs.append(ambient_spec)\n",
    "                    \n",
    "                # Break if we have collected enough samples\n",
    "                if len(ambient_specs) >= target_noise_samples:\n",
    "                    break\n",
    "                    \n",
    "            # Break outer loop if we have enough samples\n",
    "            if len(ambient_specs) >= target_noise_samples:\n",
    "                print(f\"\\nReached target of {target_noise_samples} noise samples\")\n",
    "                break\n",
    "\n",
    "        print(f\"Collected {len(ambient_specs)} ambient noise samples\")\n",
    "\n",
    "    # Process audio files\n",
    "    folder_iter = tqdm(\n",
    "        files_by_folder.items(),\n",
    "        desc=\"Processing folders\",\n",
    "        disable=not show_progress,\n",
    "    )\n",
    "    for folder, folder_files in folder_iter:\n",
    "        for audio_file in tqdm(\n",
    "            folder_files, desc=\"Processing audio files\", leave=False, disable=not show_progress\n",
    "        ):\n",
    "            # Create unique filename for the processed spec\n",
    "            spec_filename = Path(audio_file).stem + \".pt\"\n",
    "            spec_path = save_dir / folder / spec_filename\n",
    "\n",
    "            if spec_path.exists():\n",
    "                # Load existing spectrogram\n",
    "                spec = torch.load(spec_path)\n",
    "                specs.append(spec)\n",
    "                metadata.append(\n",
    "                    {\n",
    "                        \"original_file\": audio_file,\n",
    "                        \"processed_file\": str(spec_path),\n",
    "                        \"folder\": folder,\n",
    "                    }\n",
    "                )\n",
    "                continue\n",
    "\n",
    "            # Create folder if it doesn't exist\n",
    "            (save_dir / folder).mkdir(exist_ok=True)\n",
    "\n",
    "            try:\n",
    "                # Process audio file\n",
    "                spec = preprocessor.process_audio(audio_file)\n",
    "\n",
    "                # Data augmentation\n",
    "                spec = preprocessor.augment_spectrogram(spec, ambient_specs)\n",
    "\n",
    "                # Save spectrogram\n",
    "                torch.save(spec, spec_path)\n",
    "\n",
    "                specs.append(spec)\n",
    "                metadata.append(\n",
    "                    {\n",
    "                        \"original_file\": audio_file,\n",
    "                        \"processed_file\": str(spec_path),\n",
    "                        \"folder\": folder,\n",
    "                    }\n",
    "                )\n",
    "\n",
    "            except Exception as e:\n",
    "                print(f\"\\nError processing {audio_file}: {str(e)}\")\n",
    "                continue\n",
    "\n",
    "    # Save metadata\n",
    "    metadata_df = pd.DataFrame(metadata)\n",
    "    metadata_df.to_csv(save_dir / \"metadata.csv\", index=False)\n",
    "\n",
    "    # Print summary\n",
    "    print(\"\\nProcessing Summary:\")\n",
    "    print(f\"Total files processed: {len(specs)}\")\n",
    "    print(\"Files per folder:\")\n",
    "    summary = metadata_df[\"folder\"].value_counts()\n",
    "    print(summary.head().to_string())\n",
    "\n",
    "    return specs, metadata_df"
   ]
  },
  {
   "cell_type": "code",
   "execution_count": 25,
   "metadata": {},
   "outputs": [
    {
     "name": "stdout",
     "output_type": "stream",
     "text": [
      "Found 28564 audio files\n"
     ]
    },
    {
     "data": {
      "application/vnd.jupyter.widget-view+json": {
       "model_id": "5ccc02e9512a4c38a946b11d39bf8377",
       "version_major": 2,
       "version_minor": 0
      },
      "text/plain": [
       "Collecting ambient noise samples:   0%|          | 0/206 [00:00<?, ?it/s]"
      ]
     },
     "metadata": {},
     "output_type": "display_data"
    },
    {
     "data": {
      "application/vnd.jupyter.widget-view+json": {
       "model_id": "18e84148140b481f9b48774e4ca55c88",
       "version_major": 2,
       "version_minor": 0
      },
      "text/plain": [
       "Sampling noise from crbtan1:   0%|          | 0/3 [00:00<?, ?it/s]"
      ]
     },
     "metadata": {},
     "output_type": "display_data"
    },
    {
     "data": {
      "application/vnd.jupyter.widget-view+json": {
       "model_id": "67fd6560223e47f0a1d21424e2e08315",
       "version_major": 2,
       "version_minor": 0
      },
      "text/plain": [
       "Sampling noise from 48124:   0%|          | 0/3 [00:00<?, ?it/s]"
      ]
     },
     "metadata": {},
     "output_type": "display_data"
    },
    {
     "data": {
      "application/vnd.jupyter.widget-view+json": {
       "model_id": "66eaa8f506c141d2813c22e1069dc50f",
       "version_major": 2,
       "version_minor": 0
      },
      "text/plain": [
       "Sampling noise from 476537:   0%|          | 0/2 [00:00<?, ?it/s]"
      ]
     },
     "metadata": {},
     "output_type": "display_data"
    },
    {
     "data": {
      "application/vnd.jupyter.widget-view+json": {
       "model_id": "a2625133d69747a8a6bc94ef9b2e74b7",
       "version_major": 2,
       "version_minor": 0
      },
      "text/plain": [
       "Sampling noise from 66016:   0%|          | 0/2 [00:00<?, ?it/s]"
      ]
     },
     "metadata": {},
     "output_type": "display_data"
    },
    {
     "data": {
      "application/vnd.jupyter.widget-view+json": {
       "model_id": "d50fd753b01f47a6bc281b2702ebacf9",
       "version_major": 2,
       "version_minor": 0
      },
      "text/plain": [
       "Sampling noise from 42087:   0%|          | 0/2 [00:00<?, ?it/s]"
      ]
     },
     "metadata": {},
     "output_type": "display_data"
    },
    {
     "data": {
      "application/vnd.jupyter.widget-view+json": {
       "model_id": "7eb50f57f2d948cc8bd426cea51048d0",
       "version_major": 2,
       "version_minor": 0
      },
      "text/plain": [
       "Sampling noise from crcwoo1:   0%|          | 0/3 [00:00<?, ?it/s]"
      ]
     },
     "metadata": {},
     "output_type": "display_data"
    },
    {
     "data": {
      "application/vnd.jupyter.widget-view+json": {
       "model_id": "508f1ea35e4b479a83c14bdc96fe18fb",
       "version_major": 2,
       "version_minor": 0
      },
      "text/plain": [
       "Sampling noise from blcant4:   0%|          | 0/3 [00:00<?, ?it/s]"
      ]
     },
     "metadata": {},
     "output_type": "display_data"
    },
    {
     "data": {
      "application/vnd.jupyter.widget-view+json": {
       "model_id": "a06c5882673d404c9480d38849c2e3f7",
       "version_major": 2,
       "version_minor": 0
      },
      "text/plain": [
       "Sampling noise from 787625:   0%|          | 0/3 [00:00<?, ?it/s]"
      ]
     },
     "metadata": {},
     "output_type": "display_data"
    },
    {
     "data": {
      "application/vnd.jupyter.widget-view+json": {
       "model_id": "89b5b1eb812e441cb1d4727af905418e",
       "version_major": 2,
       "version_minor": 0
      },
      "text/plain": [
       "Sampling noise from 24292:   0%|          | 0/3 [00:00<?, ?it/s]"
      ]
     },
     "metadata": {},
     "output_type": "display_data"
    },
    {
     "data": {
      "application/vnd.jupyter.widget-view+json": {
       "model_id": "729db6e48c4d417aaba1e34d6b648dcc",
       "version_major": 2,
       "version_minor": 0
      },
      "text/plain": [
       "Sampling noise from 21116:   0%|          | 0/2 [00:00<?, ?it/s]"
      ]
     },
     "metadata": {},
     "output_type": "display_data"
    },
    {
     "data": {
      "application/vnd.jupyter.widget-view+json": {
       "model_id": "e4bd74aa1ff64dd19b92f859efa2163a",
       "version_major": 2,
       "version_minor": 0
      },
      "text/plain": [
       "Sampling noise from 46010:   0%|          | 0/3 [00:00<?, ?it/s]"
      ]
     },
     "metadata": {},
     "output_type": "display_data"
    },
    {
     "data": {
      "application/vnd.jupyter.widget-view+json": {
       "model_id": "19f8132d39e84213a8261a0a0e6cd375",
       "version_major": 2,
       "version_minor": 0
      },
      "text/plain": [
       "Sampling noise from compau:   0%|          | 0/3 [00:00<?, ?it/s]"
      ]
     },
     "metadata": {},
     "output_type": "display_data"
    },
    {
     "data": {
      "application/vnd.jupyter.widget-view+json": {
       "model_id": "b8d0b870ef8b435787f2be09c632f86a",
       "version_major": 2,
       "version_minor": 0
      },
      "text/plain": [
       "Sampling noise from gybmar:   0%|          | 0/3 [00:00<?, ?it/s]"
      ]
     },
     "metadata": {},
     "output_type": "display_data"
    },
    {
     "data": {
      "application/vnd.jupyter.widget-view+json": {
       "model_id": "b92615c1f61d47a1acdce2d631d5c6ec",
       "version_major": 2,
       "version_minor": 0
      },
      "text/plain": [
       "Sampling noise from 50186:   0%|          | 0/3 [00:00<?, ?it/s]"
      ]
     },
     "metadata": {},
     "output_type": "display_data"
    },
    {
     "data": {
      "application/vnd.jupyter.widget-view+json": {
       "model_id": "1214a2f451814a12ab93a1afd4273bff",
       "version_major": 2,
       "version_minor": 0
      },
      "text/plain": [
       "Sampling noise from brtpar1:   0%|          | 0/3 [00:00<?, ?it/s]"
      ]
     },
     "metadata": {},
     "output_type": "display_data"
    },
    {
     "data": {
      "application/vnd.jupyter.widget-view+json": {
       "model_id": "fa77555bc2c34c8fb4a51f6d4fd04e56",
       "version_major": 2,
       "version_minor": 0
      },
      "text/plain": [
       "Sampling noise from whwswa1:   0%|          | 0/3 [00:00<?, ?it/s]"
      ]
     },
     "metadata": {},
     "output_type": "display_data"
    },
    {
     "data": {
      "application/vnd.jupyter.widget-view+json": {
       "model_id": "ede224db77f04a08a8c5e81f291858d2",
       "version_major": 2,
       "version_minor": 0
      },
      "text/plain": [
       "Sampling noise from 52884:   0%|          | 0/3 [00:00<?, ?it/s]"
      ]
     },
     "metadata": {},
     "output_type": "display_data"
    },
    {
     "data": {
      "application/vnd.jupyter.widget-view+json": {
       "model_id": "7f7602fd6e9548b787ea4cf143af9d6d",
       "version_major": 2,
       "version_minor": 0
      },
      "text/plain": [
       "Sampling noise from 868458:   0%|          | 0/3 [00:00<?, ?it/s]"
      ]
     },
     "metadata": {},
     "output_type": "display_data"
    },
    {
     "data": {
      "application/vnd.jupyter.widget-view+json": {
       "model_id": "e3b10a072d854bd9bc078a818e1f77d1",
       "version_major": 2,
       "version_minor": 0
      },
      "text/plain": [
       "Sampling noise from royfly1:   0%|          | 0/3 [00:00<?, ?it/s]"
      ]
     },
     "metadata": {},
     "output_type": "display_data"
    },
    {
     "data": {
      "application/vnd.jupyter.widget-view+json": {
       "model_id": "ff22cecc00d640efaf174a4a9cf1fe77",
       "version_major": 2,
       "version_minor": 0
      },
      "text/plain": [
       "Sampling noise from cinbec1:   0%|          | 0/3 [00:00<?, ?it/s]"
      ]
     },
     "metadata": {},
     "output_type": "display_data"
    },
    {
     "data": {
      "application/vnd.jupyter.widget-view+json": {
       "model_id": "426cd9ede19d45e199d4b5d093db4f29",
       "version_major": 2,
       "version_minor": 0
      },
      "text/plain": [
       "Sampling noise from 963335:   0%|          | 0/3 [00:00<?, ?it/s]"
      ]
     },
     "metadata": {},
     "output_type": "display_data"
    },
    {
     "data": {
      "application/vnd.jupyter.widget-view+json": {
       "model_id": "eeb09c44e2e64077a91ada6bc2acd519",
       "version_major": 2,
       "version_minor": 0
      },
      "text/plain": [
       "Sampling noise from 476538:   0%|          | 0/3 [00:00<?, ?it/s]"
      ]
     },
     "metadata": {},
     "output_type": "display_data"
    },
    {
     "data": {
      "application/vnd.jupyter.widget-view+json": {
       "model_id": "08dcb02d848a4ce48709de05daa66248",
       "version_major": 2,
       "version_minor": 0
      },
      "text/plain": [
       "Sampling noise from leagre:   0%|          | 0/3 [00:00<?, ?it/s]"
      ]
     },
     "metadata": {},
     "output_type": "display_data"
    },
    {
     "data": {
      "application/vnd.jupyter.widget-view+json": {
       "model_id": "02d77b8468e349afa77fba3b6c569530",
       "version_major": 2,
       "version_minor": 0
      },
      "text/plain": [
       "Sampling noise from greibi1:   0%|          | 0/3 [00:00<?, ?it/s]"
      ]
     },
     "metadata": {},
     "output_type": "display_data"
    },
    {
     "data": {
      "application/vnd.jupyter.widget-view+json": {
       "model_id": "a5c18203ce354e1ea6eabab13e92aaba",
       "version_major": 2,
       "version_minor": 0
      },
      "text/plain": [
       "Sampling noise from ampkin1:   0%|          | 0/3 [00:00<?, ?it/s]"
      ]
     },
     "metadata": {},
     "output_type": "display_data"
    },
    {
     "data": {
      "application/vnd.jupyter.widget-view+json": {
       "model_id": "bd2fad1c25dd44199babbadfeeaf7ffa",
       "version_major": 2,
       "version_minor": 0
      },
      "text/plain": [
       "Sampling noise from plukit1:   0%|          | 0/3 [00:00<?, ?it/s]"
      ]
     },
     "metadata": {},
     "output_type": "display_data"
    },
    {
     "data": {
      "application/vnd.jupyter.widget-view+json": {
       "model_id": "19bb4a2eeca44ae4af3280a7f4378d7f",
       "version_major": 2,
       "version_minor": 0
      },
      "text/plain": [
       "Sampling noise from greani1:   0%|          | 0/3 [00:00<?, ?it/s]"
      ]
     },
     "metadata": {},
     "output_type": "display_data"
    },
    {
     "data": {
      "application/vnd.jupyter.widget-view+json": {
       "model_id": "c9cd7eb3e60b4291b3be63673344a6d2",
       "version_major": 2,
       "version_minor": 0
      },
      "text/plain": [
       "Sampling noise from savhaw1:   0%|          | 0/3 [00:00<?, ?it/s]"
      ]
     },
     "metadata": {},
     "output_type": "display_data"
    },
    {
     "data": {
      "application/vnd.jupyter.widget-view+json": {
       "model_id": "b49297a42a1c441080dfeb553bb5dd6a",
       "version_major": 2,
       "version_minor": 0
      },
      "text/plain": [
       "Sampling noise from 22333:   0%|          | 0/3 [00:00<?, ?it/s]"
      ]
     },
     "metadata": {},
     "output_type": "display_data"
    },
    {
     "data": {
      "application/vnd.jupyter.widget-view+json": {
       "model_id": "e23a0537f4b54930a83191b175591264",
       "version_major": 2,
       "version_minor": 0
      },
      "text/plain": [
       "Sampling noise from rosspo1:   0%|          | 0/3 [00:00<?, ?it/s]"
      ]
     },
     "metadata": {},
     "output_type": "display_data"
    },
    {
     "data": {
      "application/vnd.jupyter.widget-view+json": {
       "model_id": "a738fd2baf014baa987847f75fba0362",
       "version_major": 2,
       "version_minor": 0
      },
      "text/plain": [
       "Sampling noise from yelori1:   0%|          | 0/3 [00:00<?, ?it/s]"
      ]
     },
     "metadata": {},
     "output_type": "display_data"
    },
    {
     "data": {
      "application/vnd.jupyter.widget-view+json": {
       "model_id": "9a3c495d53ff4f828a6aaada68c35db6",
       "version_major": 2,
       "version_minor": 0
      },
      "text/plain": [
       "Sampling noise from recwoo1:   0%|          | 0/3 [00:00<?, ?it/s]"
      ]
     },
     "metadata": {},
     "output_type": "display_data"
    },
    {
     "data": {
      "application/vnd.jupyter.widget-view+json": {
       "model_id": "9b1b84bc7bed4aa58316c78e6d4f197c",
       "version_major": 2,
       "version_minor": 0
      },
      "text/plain": [
       "Sampling noise from rutjac1:   0%|          | 0/3 [00:00<?, ?it/s]"
      ]
     },
     "metadata": {},
     "output_type": "display_data"
    },
    {
     "data": {
      "application/vnd.jupyter.widget-view+json": {
       "model_id": "d1e62ca514a347efb53bc86ad55b198f",
       "version_major": 2,
       "version_minor": 0
      },
      "text/plain": [
       "Sampling noise from 41970:   0%|          | 0/3 [00:00<?, ?it/s]"
      ]
     },
     "metadata": {},
     "output_type": "display_data"
    },
    {
     "data": {
      "application/vnd.jupyter.widget-view+json": {
       "model_id": "1d7b178c70cf46bdae8b35c5c7719ab8",
       "version_major": 2,
       "version_minor": 0
      },
      "text/plain": [
       "Sampling noise from baymac:   0%|          | 0/3 [00:00<?, ?it/s]"
      ]
     },
     "metadata": {},
     "output_type": "display_data"
    },
    {
     "data": {
      "application/vnd.jupyter.widget-view+json": {
       "model_id": "698125dc28c0424790aaf3e232279fe4",
       "version_major": 2,
       "version_minor": 0
      },
      "text/plain": [
       "Sampling noise from butsal1:   0%|          | 0/3 [00:00<?, ?it/s]"
      ]
     },
     "metadata": {},
     "output_type": "display_data"
    },
    {
     "data": {
      "application/vnd.jupyter.widget-view+json": {
       "model_id": "6ffa8ea30cc4466aa7c8fb5f29b0795b",
       "version_major": 2,
       "version_minor": 0
      },
      "text/plain": [
       "Sampling noise from 555142:   0%|          | 0/3 [00:00<?, ?it/s]"
      ]
     },
     "metadata": {},
     "output_type": "display_data"
    },
    {
     "data": {
      "application/vnd.jupyter.widget-view+json": {
       "model_id": "c1bc9f087c294cb88818077d373882f6",
       "version_major": 2,
       "version_minor": 0
      },
      "text/plain": [
       "Sampling noise from grnkin:   0%|          | 0/3 [00:00<?, ?it/s]"
      ]
     },
     "metadata": {},
     "output_type": "display_data"
    },
    {
     "data": {
      "application/vnd.jupyter.widget-view+json": {
       "model_id": "43796ca33c4e458f85692ea7c15cd90e",
       "version_major": 2,
       "version_minor": 0
      },
      "text/plain": [
       "Sampling noise from 21038:   0%|          | 0/2 [00:00<?, ?it/s]"
      ]
     },
     "metadata": {},
     "output_type": "display_data"
    },
    {
     "data": {
      "application/vnd.jupyter.widget-view+json": {
       "model_id": "38de077c8337414fb7de59c0d24a6924",
       "version_major": 2,
       "version_minor": 0
      },
      "text/plain": [
       "Sampling noise from 41778:   0%|          | 0/2 [00:00<?, ?it/s]"
      ]
     },
     "metadata": {},
     "output_type": "display_data"
    },
    {
     "data": {
      "application/vnd.jupyter.widget-view+json": {
       "model_id": "620debc379d04dcd9e5314ac38ec9d76",
       "version_major": 2,
       "version_minor": 0
      },
      "text/plain": [
       "Sampling noise from cotfly1:   0%|          | 0/3 [00:00<?, ?it/s]"
      ]
     },
     "metadata": {},
     "output_type": "display_data"
    },
    {
     "data": {
      "application/vnd.jupyter.widget-view+json": {
       "model_id": "345ab700f9ea455ebb5b526efe28f7da",
       "version_major": 2,
       "version_minor": 0
      },
      "text/plain": [
       "Sampling noise from yebfly1:   0%|          | 0/3 [00:00<?, ?it/s]"
      ]
     },
     "metadata": {},
     "output_type": "display_data"
    },
    {
     "data": {
      "application/vnd.jupyter.widget-view+json": {
       "model_id": "b835185907cf43baa9f17fa142aaa4d5",
       "version_major": 2,
       "version_minor": 0
      },
      "text/plain": [
       "Sampling noise from bafibi1:   0%|          | 0/3 [00:00<?, ?it/s]"
      ]
     },
     "metadata": {},
     "output_type": "display_data"
    },
    {
     "data": {
      "application/vnd.jupyter.widget-view+json": {
       "model_id": "5ea9a8a3042140bbbb3f75d72651a025",
       "version_major": 2,
       "version_minor": 0
      },
      "text/plain": [
       "Sampling noise from amakin1:   0%|          | 0/3 [00:00<?, ?it/s]"
      ]
     },
     "metadata": {},
     "output_type": "display_data"
    },
    {
     "data": {
      "application/vnd.jupyter.widget-view+json": {
       "model_id": "2f4294826c8148ee81ab2ac9cdc87e4a",
       "version_major": 2,
       "version_minor": 0
      },
      "text/plain": [
       "Sampling noise from 548639:   0%|          | 0/3 [00:00<?, ?it/s]"
      ]
     },
     "metadata": {},
     "output_type": "display_data"
    },
    {
     "data": {
      "application/vnd.jupyter.widget-view+json": {
       "model_id": "4b830c1c6cfe49008e7e70d8081453c0",
       "version_major": 2,
       "version_minor": 0
      },
      "text/plain": [
       "Sampling noise from greegr:   0%|          | 0/3 [00:00<?, ?it/s]"
      ]
     },
     "metadata": {},
     "output_type": "display_data"
    },
    {
     "data": {
      "application/vnd.jupyter.widget-view+json": {
       "model_id": "d62906f93574434ca2a52261c8f3f413",
       "version_major": 2,
       "version_minor": 0
      },
      "text/plain": [
       "Sampling noise from 66531:   0%|          | 0/2 [00:00<?, ?it/s]"
      ]
     },
     "metadata": {},
     "output_type": "display_data"
    },
    {
     "data": {
      "application/vnd.jupyter.widget-view+json": {
       "model_id": "81b6ec6938ed4aaf86de1a7355c1dd28",
       "version_major": 2,
       "version_minor": 0
      },
      "text/plain": [
       "Sampling noise from blbgra1:   0%|          | 0/3 [00:00<?, ?it/s]"
      ]
     },
     "metadata": {},
     "output_type": "display_data"
    },
    {
     "data": {
      "application/vnd.jupyter.widget-view+json": {
       "model_id": "eabf9568a022407eafc7eef70b60b780",
       "version_major": 2,
       "version_minor": 0
      },
      "text/plain": [
       "Sampling noise from norscr1:   0%|          | 0/3 [00:00<?, ?it/s]"
      ]
     },
     "metadata": {},
     "output_type": "display_data"
    },
    {
     "data": {
      "application/vnd.jupyter.widget-view+json": {
       "model_id": "216bf2f375ec459fbf457bd5e9674074",
       "version_major": 2,
       "version_minor": 0
      },
      "text/plain": [
       "Sampling noise from spepar1:   0%|          | 0/3 [00:00<?, ?it/s]"
      ]
     },
     "metadata": {},
     "output_type": "display_data"
    },
    {
     "data": {
      "application/vnd.jupyter.widget-view+json": {
       "model_id": "06fdb7cce54d41f297355f61ff937efa",
       "version_major": 2,
       "version_minor": 0
      },
      "text/plain": [
       "Sampling noise from y00678:   0%|          | 0/3 [00:00<?, ?it/s]"
      ]
     },
     "metadata": {},
     "output_type": "display_data"
    },
    {
     "data": {
      "application/vnd.jupyter.widget-view+json": {
       "model_id": "7d467de69c0b461e83fb8c349dbc0f1f",
       "version_major": 2,
       "version_minor": 0
      },
      "text/plain": [
       "Sampling noise from 24322:   0%|          | 0/3 [00:00<?, ?it/s]"
      ]
     },
     "metadata": {},
     "output_type": "display_data"
    },
    {
     "data": {
      "application/vnd.jupyter.widget-view+json": {
       "model_id": "ae169cc1ab2b4a6f9045476fb714449c",
       "version_major": 2,
       "version_minor": 0
      },
      "text/plain": [
       "Sampling noise from smbani:   0%|          | 0/3 [00:00<?, ?it/s]"
      ]
     },
     "metadata": {},
     "output_type": "display_data"
    },
    {
     "data": {
      "application/vnd.jupyter.widget-view+json": {
       "model_id": "4f47bfbbe2714a1f895f718588a5c4db",
       "version_major": 2,
       "version_minor": 0
      },
      "text/plain": [
       "Sampling noise from 1139490:   0%|          | 0/2 [00:00<?, ?it/s]"
      ]
     },
     "metadata": {},
     "output_type": "display_data"
    },
    {
     "data": {
      "application/vnd.jupyter.widget-view+json": {
       "model_id": "3e63b888ecaf4be3a42c07118247c82f",
       "version_major": 2,
       "version_minor": 0
      },
      "text/plain": [
       "Sampling noise from 65349:   0%|          | 0/3 [00:00<?, ?it/s]"
      ]
     },
     "metadata": {},
     "output_type": "display_data"
    },
    {
     "data": {
      "application/vnd.jupyter.widget-view+json": {
       "model_id": "2841a5b0f99c4b80aecc7ef46f438570",
       "version_major": 2,
       "version_minor": 0
      },
      "text/plain": [
       "Sampling noise from watjac1:   0%|          | 0/3 [00:00<?, ?it/s]"
      ]
     },
     "metadata": {},
     "output_type": "display_data"
    },
    {
     "data": {
      "application/vnd.jupyter.widget-view+json": {
       "model_id": "b5fa772d07b642638df2cb4fb8c65cd5",
       "version_major": 2,
       "version_minor": 0
      },
      "text/plain": [
       "Sampling noise from 65962:   0%|          | 0/3 [00:00<?, ?it/s]"
      ]
     },
     "metadata": {},
     "output_type": "display_data"
    },
    {
     "data": {
      "application/vnd.jupyter.widget-view+json": {
       "model_id": "bdbda24623954916a0ac5f6f14b992a4",
       "version_major": 2,
       "version_minor": 0
      },
      "text/plain": [
       "Sampling noise from 21211:   0%|          | 0/3 [00:00<?, ?it/s]"
      ]
     },
     "metadata": {},
     "output_type": "display_data"
    },
    {
     "data": {
      "application/vnd.jupyter.widget-view+json": {
       "model_id": "3774df9156734a36a55e4916b221a734",
       "version_major": 2,
       "version_minor": 0
      },
      "text/plain": [
       "Sampling noise from laufal1:   0%|          | 0/3 [00:00<?, ?it/s]"
      ]
     },
     "metadata": {},
     "output_type": "display_data"
    },
    {
     "data": {
      "application/vnd.jupyter.widget-view+json": {
       "model_id": "f8845ad7b69d4fa383c908983a089eae",
       "version_major": 2,
       "version_minor": 0
      },
      "text/plain": [
       "Sampling noise from 67252:   0%|          | 0/3 [00:00<?, ?it/s]"
      ]
     },
     "metadata": {},
     "output_type": "display_data"
    },
    {
     "data": {
      "application/vnd.jupyter.widget-view+json": {
       "model_id": "81cece4699834f99a111d1991dd0e102",
       "version_major": 2,
       "version_minor": 0
      },
      "text/plain": [
       "Sampling noise from 65336:   0%|          | 0/3 [00:00<?, ?it/s]"
      ]
     },
     "metadata": {},
     "output_type": "display_data"
    },
    {
     "data": {
      "application/vnd.jupyter.widget-view+json": {
       "model_id": "56469d31b9d84ee2ad061edf63f267dc",
       "version_major": 2,
       "version_minor": 0
      },
      "text/plain": [
       "Sampling noise from strcuc1:   0%|          | 0/3 [00:00<?, ?it/s]"
      ]
     },
     "metadata": {},
     "output_type": "display_data"
    },
    {
     "data": {
      "application/vnd.jupyter.widget-view+json": {
       "model_id": "7134278b68cd4b659416196e291d63b9",
       "version_major": 2,
       "version_minor": 0
      },
      "text/plain": [
       "Sampling noise from 66578:   0%|          | 0/2 [00:00<?, ?it/s]"
      ]
     },
     "metadata": {},
     "output_type": "display_data"
    },
    {
     "data": {
      "application/vnd.jupyter.widget-view+json": {
       "model_id": "5f4932ea8a2c49ad805c576de3e299ae",
       "version_major": 2,
       "version_minor": 0
      },
      "text/plain": [
       "Sampling noise from spbwoo1:   0%|          | 0/3 [00:00<?, ?it/s]"
      ]
     },
     "metadata": {},
     "output_type": "display_data"
    },
    {
     "data": {
      "application/vnd.jupyter.widget-view+json": {
       "model_id": "f28f9e206ae64f1fb9c7cd81cd3bb66f",
       "version_major": 2,
       "version_minor": 0
      },
      "text/plain": [
       "Sampling noise from amekes:   0%|          | 0/3 [00:00<?, ?it/s]"
      ]
     },
     "metadata": {},
     "output_type": "display_data"
    },
    {
     "data": {
      "application/vnd.jupyter.widget-view+json": {
       "model_id": "8be4eeb703c141f585f38c136ad5a36b",
       "version_major": 2,
       "version_minor": 0
      },
      "text/plain": [
       "Sampling noise from whttro1:   0%|          | 0/3 [00:00<?, ?it/s]"
      ]
     },
     "metadata": {},
     "output_type": "display_data"
    },
    {
     "data": {
      "application/vnd.jupyter.widget-view+json": {
       "model_id": "2ee3258875c74c11a971d0619d95bce1",
       "version_major": 2,
       "version_minor": 0
      },
      "text/plain": [
       "Sampling noise from trokin:   0%|          | 0/3 [00:00<?, ?it/s]"
      ]
     },
     "metadata": {},
     "output_type": "display_data"
    },
    {
     "data": {
      "application/vnd.jupyter.widget-view+json": {
       "model_id": "303e11d617ea40048227a149b896eaff",
       "version_major": 2,
       "version_minor": 0
      },
      "text/plain": [
       "Sampling noise from yehbla2:   0%|          | 0/3 [00:00<?, ?it/s]"
      ]
     },
     "metadata": {},
     "output_type": "display_data"
    },
    {
     "data": {
      "application/vnd.jupyter.widget-view+json": {
       "model_id": "08d45cf1c2094132995345f18a020755",
       "version_major": 2,
       "version_minor": 0
      },
      "text/plain": [
       "Sampling noise from blkvul:   0%|          | 0/3 [00:00<?, ?it/s]"
      ]
     },
     "metadata": {},
     "output_type": "display_data"
    },
    {
     "data": {
      "application/vnd.jupyter.widget-view+json": {
       "model_id": "d55c397763c5489b94a3fe5beb5f1837",
       "version_major": 2,
       "version_minor": 0
      },
      "text/plain": [
       "Sampling noise from grekis:   0%|          | 0/3 [00:00<?, ?it/s]"
      ]
     },
     "metadata": {},
     "output_type": "display_data"
    },
    {
     "data": {
      "application/vnd.jupyter.widget-view+json": {
       "model_id": "14775dbb89904470960395f61aa51dec",
       "version_major": 2,
       "version_minor": 0
      },
      "text/plain": [
       "Sampling noise from ywcpar:   0%|          | 0/3 [00:00<?, ?it/s]"
      ]
     },
     "metadata": {},
     "output_type": "display_data"
    },
    {
     "data": {
      "application/vnd.jupyter.widget-view+json": {
       "model_id": "99709b2a1e21491a9a4f311c166a1979",
       "version_major": 2,
       "version_minor": 0
      },
      "text/plain": [
       "Sampling noise from sahpar1:   0%|          | 0/3 [00:00<?, ?it/s]"
      ]
     },
     "metadata": {},
     "output_type": "display_data"
    },
    {
     "data": {
      "application/vnd.jupyter.widget-view+json": {
       "model_id": "41fa34c902d64425b5d55730f88ee008",
       "version_major": 2,
       "version_minor": 0
      },
      "text/plain": [
       "Sampling noise from 134933:   0%|          | 0/3 [00:00<?, ?it/s]"
      ]
     },
     "metadata": {},
     "output_type": "display_data"
    },
    {
     "data": {
      "application/vnd.jupyter.widget-view+json": {
       "model_id": "c889f90e3a42405b86c55515d321e8d9",
       "version_major": 2,
       "version_minor": 0
      },
      "text/plain": [
       "Sampling noise from fotfly:   0%|          | 0/3 [00:00<?, ?it/s]"
      ]
     },
     "metadata": {},
     "output_type": "display_data"
    },
    {
     "data": {
      "application/vnd.jupyter.widget-view+json": {
       "model_id": "071b82eee7704b4cb1fad0cb062cba4b",
       "version_major": 2,
       "version_minor": 0
      },
      "text/plain": [
       "Sampling noise from strfly1:   0%|          | 0/3 [00:00<?, ?it/s]"
      ]
     },
     "metadata": {},
     "output_type": "display_data"
    },
    {
     "data": {
      "application/vnd.jupyter.widget-view+json": {
       "model_id": "b71993b3086440b093b334d825efbd51",
       "version_major": 2,
       "version_minor": 0
      },
      "text/plain": [
       "Sampling noise from 42113:   0%|          | 0/2 [00:00<?, ?it/s]"
      ]
     },
     "metadata": {},
     "output_type": "display_data"
    },
    {
     "data": {
      "application/vnd.jupyter.widget-view+json": {
       "model_id": "51e361a6cfa84b3287a8f8ac364e79a1",
       "version_major": 2,
       "version_minor": 0
      },
      "text/plain": [
       "Sampling noise from speowl1:   0%|          | 0/3 [00:00<?, ?it/s]"
      ]
     },
     "metadata": {},
     "output_type": "display_data"
    },
    {
     "data": {
      "application/vnd.jupyter.widget-view+json": {
       "model_id": "b3ab487fbf7a42808184641be021ece6",
       "version_major": 2,
       "version_minor": 0
      },
      "text/plain": [
       "Sampling noise from gohman1:   0%|          | 0/3 [00:00<?, ?it/s]"
      ]
     },
     "metadata": {},
     "output_type": "display_data"
    },
    {
     "data": {
      "application/vnd.jupyter.widget-view+json": {
       "model_id": "fb5e96e3e56840619fac3fb5e4a1b30f",
       "version_major": 2,
       "version_minor": 0
      },
      "text/plain": [
       "Sampling noise from 566513:   0%|          | 0/3 [00:00<?, ?it/s]"
      ]
     },
     "metadata": {},
     "output_type": "display_data"
    },
    {
     "data": {
      "application/vnd.jupyter.widget-view+json": {
       "model_id": "b8ebb80dc9b44753b30584b7d4b88bd3",
       "version_major": 2,
       "version_minor": 0
      },
      "text/plain": [
       "Sampling noise from blcjay1:   0%|          | 0/3 [00:00<?, ?it/s]"
      ]
     },
     "metadata": {},
     "output_type": "display_data"
    },
    {
     "data": {
      "application/vnd.jupyter.widget-view+json": {
       "model_id": "3f35aa15edf3430a8378e3bab909f12e",
       "version_major": 2,
       "version_minor": 0
      },
      "text/plain": [
       "Sampling noise from 715170:   0%|          | 0/3 [00:00<?, ?it/s]"
      ]
     },
     "metadata": {},
     "output_type": "display_data"
    },
    {
     "data": {
      "application/vnd.jupyter.widget-view+json": {
       "model_id": "da82fc0c4d8a44dbb74432690dbe7d40",
       "version_major": 2,
       "version_minor": 0
      },
      "text/plain": [
       "Sampling noise from rtlhum:   0%|          | 0/3 [00:00<?, ?it/s]"
      ]
     },
     "metadata": {},
     "output_type": "display_data"
    },
    {
     "data": {
      "application/vnd.jupyter.widget-view+json": {
       "model_id": "5efd3a82db334d79baf2ffb02c6bb90d",
       "version_major": 2,
       "version_minor": 0
      },
      "text/plain": [
       "Sampling noise from bucmot3:   0%|          | 0/3 [00:00<?, ?it/s]"
      ]
     },
     "metadata": {},
     "output_type": "display_data"
    },
    {
     "data": {
      "application/vnd.jupyter.widget-view+json": {
       "model_id": "8e365ce8e1e84cea9791d4739de2da0d",
       "version_major": 2,
       "version_minor": 0
      },
      "text/plain": [
       "Sampling noise from chbant1:   0%|          | 0/3 [00:00<?, ?it/s]"
      ]
     },
     "metadata": {},
     "output_type": "display_data"
    },
    {
     "data": {
      "application/vnd.jupyter.widget-view+json": {
       "model_id": "9aed06e67f9e4983abee2f030e1b9007",
       "version_major": 2,
       "version_minor": 0
      },
      "text/plain": [
       "Sampling noise from 47067:   0%|          | 0/2 [00:00<?, ?it/s]"
      ]
     },
     "metadata": {},
     "output_type": "display_data"
    },
    {
     "data": {
      "application/vnd.jupyter.widget-view+json": {
       "model_id": "a14f9df9cd894fa1878b7fde190c3698",
       "version_major": 2,
       "version_minor": 0
      },
      "text/plain": [
       "Sampling noise from stbwoo2:   0%|          | 0/3 [00:00<?, ?it/s]"
      ]
     },
     "metadata": {},
     "output_type": "display_data"
    },
    {
     "data": {
      "application/vnd.jupyter.widget-view+json": {
       "model_id": "49718e30c6534577bccd27a94bf0818c",
       "version_major": 2,
       "version_minor": 0
      },
      "text/plain": [
       "Sampling noise from 135045:   0%|          | 0/3 [00:00<?, ?it/s]"
      ]
     },
     "metadata": {},
     "output_type": "display_data"
    },
    {
     "data": {
      "application/vnd.jupyter.widget-view+json": {
       "model_id": "f1f7dcb442fd417fb08351655079ca17",
       "version_major": 2,
       "version_minor": 0
      },
      "text/plain": [
       "Sampling noise from whtdov:   0%|          | 0/3 [00:00<?, ?it/s]"
      ]
     },
     "metadata": {},
     "output_type": "display_data"
    },
    {
     "data": {
      "application/vnd.jupyter.widget-view+json": {
       "model_id": "a15adf96fa554a14bb679c6d4cee1f9b",
       "version_major": 2,
       "version_minor": 0
      },
      "text/plain": [
       "Sampling noise from sobtyr1:   0%|          | 0/3 [00:00<?, ?it/s]"
      ]
     },
     "metadata": {},
     "output_type": "display_data"
    },
    {
     "data": {
      "application/vnd.jupyter.widget-view+json": {
       "model_id": "d77fbf4ebaf8436aaca64fddfb1be7d2",
       "version_major": 2,
       "version_minor": 0
      },
      "text/plain": [
       "Sampling noise from turvul:   0%|          | 0/3 [00:00<?, ?it/s]"
      ]
     },
     "metadata": {},
     "output_type": "display_data"
    },
    {
     "data": {
      "application/vnd.jupyter.widget-view+json": {
       "model_id": "4a83a593079d412c9341ace0d2f0aae1",
       "version_major": 2,
       "version_minor": 0
      },
      "text/plain": [
       "Sampling noise from piwtyr1:   0%|          | 0/3 [00:00<?, ?it/s]"
      ]
     },
     "metadata": {},
     "output_type": "display_data"
    },
    {
     "data": {
      "application/vnd.jupyter.widget-view+json": {
       "model_id": "07825b8e9cf44f988e5a811644db4e43",
       "version_major": 2,
       "version_minor": 0
      },
      "text/plain": [
       "Sampling noise from cregua1:   0%|          | 0/3 [00:00<?, ?it/s]"
      ]
     },
     "metadata": {},
     "output_type": "display_data"
    },
    {
     "data": {
      "application/vnd.jupyter.widget-view+json": {
       "model_id": "b566c7ef403c44fc96930467c7a49393",
       "version_major": 2,
       "version_minor": 0
      },
      "text/plain": [
       "Sampling noise from whbman1:   0%|          | 0/3 [00:00<?, ?it/s]"
      ]
     },
     "metadata": {},
     "output_type": "display_data"
    },
    {
     "data": {
      "application/vnd.jupyter.widget-view+json": {
       "model_id": "500847e09e0f4a91bde1429a4796e4a5",
       "version_major": 2,
       "version_minor": 0
      },
      "text/plain": [
       "Sampling noise from 1462711:   0%|          | 0/3 [00:00<?, ?it/s]"
      ]
     },
     "metadata": {},
     "output_type": "display_data"
    },
    {
     "data": {
      "application/vnd.jupyter.widget-view+json": {
       "model_id": "7cb5710e7e4949d2803dab1a3c7d4180",
       "version_major": 2,
       "version_minor": 0
      },
      "text/plain": [
       "Sampling noise from 22973:   0%|          | 0/3 [00:00<?, ?it/s]"
      ]
     },
     "metadata": {},
     "output_type": "display_data"
    },
    {
     "data": {
      "application/vnd.jupyter.widget-view+json": {
       "model_id": "cdede7a5045c4bdba29567c60f2cecae",
       "version_major": 2,
       "version_minor": 0
      },
      "text/plain": [
       "Sampling noise from rugdov:   0%|          | 0/3 [00:00<?, ?it/s]"
      ]
     },
     "metadata": {},
     "output_type": "display_data"
    },
    {
     "data": {
      "application/vnd.jupyter.widget-view+json": {
       "model_id": "3603cac3ca8e46c7aa3df30f06b5c89d",
       "version_major": 2,
       "version_minor": 0
      },
      "text/plain": [
       "Sampling noise from yehcar1:   0%|          | 0/3 [00:00<?, ?it/s]"
      ]
     },
     "metadata": {},
     "output_type": "display_data"
    },
    {
     "data": {
      "application/vnd.jupyter.widget-view+json": {
       "model_id": "9c42f87cdb46410c8bfa210399863a41",
       "version_major": 2,
       "version_minor": 0
      },
      "text/plain": [
       "Sampling noise from cargra1:   0%|          | 0/3 [00:00<?, ?it/s]"
      ]
     },
     "metadata": {},
     "output_type": "display_data"
    },
    {
     "data": {
      "application/vnd.jupyter.widget-view+json": {
       "model_id": "f323b892d39942b28e438036679b3093",
       "version_major": 2,
       "version_minor": 0
      },
      "text/plain": [
       "Sampling noise from 523060:   0%|          | 0/3 [00:00<?, ?it/s]"
      ]
     },
     "metadata": {},
     "output_type": "display_data"
    },
    {
     "data": {
      "application/vnd.jupyter.widget-view+json": {
       "model_id": "3aaaeb16938c437297688884a2988663",
       "version_major": 2,
       "version_minor": 0
      },
      "text/plain": [
       "Sampling noise from bobfly1:   0%|          | 0/3 [00:00<?, ?it/s]"
      ]
     },
     "metadata": {},
     "output_type": "display_data"
    },
    {
     "data": {
      "application/vnd.jupyter.widget-view+json": {
       "model_id": "17b2c6da9f4e43369445169038d2940f",
       "version_major": 2,
       "version_minor": 0
      },
      "text/plain": [
       "Sampling noise from blctit1:   0%|          | 0/3 [00:00<?, ?it/s]"
      ]
     },
     "metadata": {},
     "output_type": "display_data"
    },
    {
     "data": {
      "application/vnd.jupyter.widget-view+json": {
       "model_id": "97692acd9bce4535886cf9330bab955e",
       "version_major": 2,
       "version_minor": 0
      },
      "text/plain": [
       "Sampling noise from trsowl:   0%|          | 0/3 [00:00<?, ?it/s]"
      ]
     },
     "metadata": {},
     "output_type": "display_data"
    },
    {
     "data": {
      "application/vnd.jupyter.widget-view+json": {
       "model_id": "3e2dfe08a9244fe3a227c3b2c73482d9",
       "version_major": 2,
       "version_minor": 0
      },
      "text/plain": [
       "Sampling noise from paltan1:   0%|          | 0/3 [00:00<?, ?it/s]"
      ]
     },
     "metadata": {},
     "output_type": "display_data"
    },
    {
     "data": {
      "application/vnd.jupyter.widget-view+json": {
       "model_id": "4b8b158f7deb47409e37fbce34e4b546",
       "version_major": 2,
       "version_minor": 0
      },
      "text/plain": [
       "Sampling noise from bicwre1:   0%|          | 0/3 [00:00<?, ?it/s]"
      ]
     },
     "metadata": {},
     "output_type": "display_data"
    },
    {
     "data": {
      "application/vnd.jupyter.widget-view+json": {
       "model_id": "71445eef0ad34f8b860b4043b0f24d74",
       "version_major": 2,
       "version_minor": 0
      },
      "text/plain": [
       "Sampling noise from rufmot1:   0%|          | 0/3 [00:00<?, ?it/s]"
      ]
     },
     "metadata": {},
     "output_type": "display_data"
    },
    {
     "data": {
      "application/vnd.jupyter.widget-view+json": {
       "model_id": "c4cae635b71547558e67b5d51d31a208",
       "version_major": 2,
       "version_minor": 0
      },
      "text/plain": [
       "Sampling noise from 65448:   0%|          | 0/3 [00:00<?, ?it/s]"
      ]
     },
     "metadata": {},
     "output_type": "display_data"
    },
    {
     "data": {
      "application/vnd.jupyter.widget-view+json": {
       "model_id": "6f271a17f9724cf0b215148cf6a4743f",
       "version_major": 2,
       "version_minor": 0
      },
      "text/plain": [
       "Sampling noise from 24272:   0%|          | 0/3 [00:00<?, ?it/s]"
      ]
     },
     "metadata": {},
     "output_type": "display_data"
    },
    {
     "data": {
      "application/vnd.jupyter.widget-view+json": {
       "model_id": "749346cbb788431bb1a1489a58d70c0d",
       "version_major": 2,
       "version_minor": 0
      },
      "text/plain": [
       "Sampling noise from piepuf1:   0%|          | 0/3 [00:00<?, ?it/s]"
      ]
     },
     "metadata": {},
     "output_type": "display_data"
    },
    {
     "data": {
      "application/vnd.jupyter.widget-view+json": {
       "model_id": "8f149d579bd54068988b0a7a20a1032f",
       "version_major": 2,
       "version_minor": 0
      },
      "text/plain": [
       "Sampling noise from yebsee1:   0%|          | 0/3 [00:00<?, ?it/s]"
      ]
     },
     "metadata": {},
     "output_type": "display_data"
    },
    {
     "data": {
      "application/vnd.jupyter.widget-view+json": {
       "model_id": "fa066a8b6f9141f6b6b3bc4be812ba11",
       "version_major": 2,
       "version_minor": 0
      },
      "text/plain": [
       "Sampling noise from pavpig2:   0%|          | 0/3 [00:00<?, ?it/s]"
      ]
     },
     "metadata": {},
     "output_type": "display_data"
    },
    {
     "data": {
      "application/vnd.jupyter.widget-view+json": {
       "model_id": "d774260acad24f7ea7ab6387e49e6c6e",
       "version_major": 2,
       "version_minor": 0
      },
      "text/plain": [
       "Sampling noise from 41663:   0%|          | 0/3 [00:00<?, ?it/s]"
      ]
     },
     "metadata": {},
     "output_type": "display_data"
    },
    {
     "data": {
      "application/vnd.jupyter.widget-view+json": {
       "model_id": "20eccc5660624c3d867a78ed35a2e14d",
       "version_major": 2,
       "version_minor": 0
      },
      "text/plain": [
       "Sampling noise from anhing:   0%|          | 0/3 [00:00<?, ?it/s]"
      ]
     },
     "metadata": {},
     "output_type": "display_data"
    },
    {
     "data": {
      "application/vnd.jupyter.widget-view+json": {
       "model_id": "7e1b9fea8ae1400caa7422462a5873bd",
       "version_major": 2,
       "version_minor": 0
      },
      "text/plain": [
       "Sampling noise from bbwduc:   0%|          | 0/3 [00:00<?, ?it/s]"
      ]
     },
     "metadata": {},
     "output_type": "display_data"
    },
    {
     "data": {
      "application/vnd.jupyter.widget-view+json": {
       "model_id": "6f1272768c1e49c58afbfea333002c68",
       "version_major": 2,
       "version_minor": 0
      },
      "text/plain": [
       "Sampling noise from chfmac1:   0%|          | 0/3 [00:00<?, ?it/s]"
      ]
     },
     "metadata": {},
     "output_type": "display_data"
    },
    {
     "data": {
      "application/vnd.jupyter.widget-view+json": {
       "model_id": "22818bd818764d09840e54ff8759d67e",
       "version_major": 2,
       "version_minor": 0
      },
      "text/plain": [
       "Sampling noise from cocwoo1:   0%|          | 0/3 [00:00<?, ?it/s]"
      ]
     },
     "metadata": {},
     "output_type": "display_data"
    },
    {
     "data": {
      "application/vnd.jupyter.widget-view+json": {
       "model_id": "12daaee804c1478cb56614469ea3398d",
       "version_major": 2,
       "version_minor": 0
      },
      "text/plain": [
       "Sampling noise from thlsch3:   0%|          | 0/3 [00:00<?, ?it/s]"
      ]
     },
     "metadata": {},
     "output_type": "display_data"
    },
    {
     "data": {
      "application/vnd.jupyter.widget-view+json": {
       "model_id": "50fe5633b7244dc88f962a3ae63fe963",
       "version_major": 2,
       "version_minor": 0
      },
      "text/plain": [
       "Sampling noise from rinkin1:   0%|          | 0/3 [00:00<?, ?it/s]"
      ]
     },
     "metadata": {},
     "output_type": "display_data"
    },
    {
     "data": {
      "application/vnd.jupyter.widget-view+json": {
       "model_id": "799580c97dd44389844de5d7e96008f9",
       "version_major": 2,
       "version_minor": 0
      },
      "text/plain": [
       "Sampling noise from snoegr:   0%|          | 0/3 [00:00<?, ?it/s]"
      ]
     },
     "metadata": {},
     "output_type": "display_data"
    },
    {
     "data": {
      "application/vnd.jupyter.widget-view+json": {
       "model_id": "d2c9175cec364aacbde7ef056672c37a",
       "version_major": 2,
       "version_minor": 0
      },
      "text/plain": [
       "Sampling noise from bkcdon:   0%|          | 0/3 [00:00<?, ?it/s]"
      ]
     },
     "metadata": {},
     "output_type": "display_data"
    },
    {
     "data": {
      "application/vnd.jupyter.widget-view+json": {
       "model_id": "d409f25979c34a98894b9b0560836b2b",
       "version_major": 2,
       "version_minor": 0
      },
      "text/plain": [
       "Sampling noise from purgal2:   0%|          | 0/3 [00:00<?, ?it/s]"
      ]
     },
     "metadata": {},
     "output_type": "display_data"
    },
    {
     "data": {
      "application/vnd.jupyter.widget-view+json": {
       "model_id": "8aee360f2b8547adaa6767daf7127cb5",
       "version_major": 2,
       "version_minor": 0
      },
      "text/plain": [
       "Sampling noise from bobher1:   0%|          | 0/3 [00:00<?, ?it/s]"
      ]
     },
     "metadata": {},
     "output_type": "display_data"
    },
    {
     "data": {
      "application/vnd.jupyter.widget-view+json": {
       "model_id": "7eb62e6f1e924a069937687308a39c86",
       "version_major": 2,
       "version_minor": 0
      },
      "text/plain": [
       "Sampling noise from bkmtou1:   0%|          | 0/3 [00:00<?, ?it/s]"
      ]
     },
     "metadata": {},
     "output_type": "display_data"
    },
    {
     "data": {
      "application/vnd.jupyter.widget-view+json": {
       "model_id": "e484b79412a24ed6bc96e89c509ed796",
       "version_major": 2,
       "version_minor": 0
      },
      "text/plain": [
       "Sampling noise from bugtan:   0%|          | 0/3 [00:00<?, ?it/s]"
      ]
     },
     "metadata": {},
     "output_type": "display_data"
    },
    {
     "data": {
      "application/vnd.jupyter.widget-view+json": {
       "model_id": "d54acbc042694bb096c73e9af16a2718",
       "version_major": 2,
       "version_minor": 0
      },
      "text/plain": [
       "Sampling noise from rebbla1:   0%|          | 0/3 [00:00<?, ?it/s]"
      ]
     },
     "metadata": {},
     "output_type": "display_data"
    },
    {
     "data": {
      "application/vnd.jupyter.widget-view+json": {
       "model_id": "c6c27808054b41edba56e9aeae996bdf",
       "version_major": 2,
       "version_minor": 0
      },
      "text/plain": [
       "Sampling noise from orcpar:   0%|          | 0/3 [00:00<?, ?it/s]"
      ]
     },
     "metadata": {},
     "output_type": "display_data"
    },
    {
     "data": {
      "application/vnd.jupyter.widget-view+json": {
       "model_id": "32eb789c4cae4865a7f59166ae9b1fc4",
       "version_major": 2,
       "version_minor": 0
      },
      "text/plain": [
       "Sampling noise from gretin1:   0%|          | 0/3 [00:00<?, ?it/s]"
      ]
     },
     "metadata": {},
     "output_type": "display_data"
    },
    {
     "data": {
      "application/vnd.jupyter.widget-view+json": {
       "model_id": "36b1c1253aaa41898d553a927e9c425f",
       "version_major": 2,
       "version_minor": 0
      },
      "text/plain": [
       "Sampling noise from 1462737:   0%|          | 0/3 [00:00<?, ?it/s]"
      ]
     },
     "metadata": {},
     "output_type": "display_data"
    },
    {
     "data": {
      "application/vnd.jupyter.widget-view+json": {
       "model_id": "dab7b0c14ae14f9ba4bb43d3a378a044",
       "version_major": 2,
       "version_minor": 0
      },
      "text/plain": [
       "Sampling noise from 1564122:   0%|          | 0/3 [00:00<?, ?it/s]"
      ]
     },
     "metadata": {},
     "output_type": "display_data"
    },
    {
     "data": {
      "application/vnd.jupyter.widget-view+json": {
       "model_id": "fa6cdd20dad54e1e86977abf924956cd",
       "version_major": 2,
       "version_minor": 0
      },
      "text/plain": [
       "Sampling noise from linwoo1:   0%|          | 0/3 [00:00<?, ?it/s]"
      ]
     },
     "metadata": {},
     "output_type": "display_data"
    },
    {
     "data": {
      "application/vnd.jupyter.widget-view+json": {
       "model_id": "7525e0b95d2b4c2cbb383b93731f1521",
       "version_major": 2,
       "version_minor": 0
      },
      "text/plain": [
       "Sampling noise from pirfly1:   0%|          | 0/3 [00:00<?, ?it/s]"
      ]
     },
     "metadata": {},
     "output_type": "display_data"
    },
    {
     "data": {
      "application/vnd.jupyter.widget-view+json": {
       "model_id": "9abb09469310494b8462a5ae5b5ee831",
       "version_major": 2,
       "version_minor": 0
      },
      "text/plain": [
       "Sampling noise from 65373:   0%|          | 0/3 [00:00<?, ?it/s]"
      ]
     },
     "metadata": {},
     "output_type": "display_data"
    },
    {
     "data": {
      "application/vnd.jupyter.widget-view+json": {
       "model_id": "138851ed13964bf9b657ffc9d5c5e70e",
       "version_major": 2,
       "version_minor": 0
      },
      "text/plain": [
       "Sampling noise from olipic1:   0%|          | 0/3 [00:00<?, ?it/s]"
      ]
     },
     "metadata": {},
     "output_type": "display_data"
    },
    {
     "data": {
      "application/vnd.jupyter.widget-view+json": {
       "model_id": "285389e3fcf447b49a098b9157eee52f",
       "version_major": 2,
       "version_minor": 0
      },
      "text/plain": [
       "Sampling noise from soulap1:   0%|          | 0/3 [00:00<?, ?it/s]"
      ]
     },
     "metadata": {},
     "output_type": "display_data"
    },
    {
     "data": {
      "application/vnd.jupyter.widget-view+json": {
       "model_id": "cac54714f6b74a9dbb7ef15d4f0c50da",
       "version_major": 2,
       "version_minor": 0
      },
      "text/plain": [
       "Sampling noise from 126247:   0%|          | 0/3 [00:00<?, ?it/s]"
      ]
     },
     "metadata": {},
     "output_type": "display_data"
    },
    {
     "data": {
      "application/vnd.jupyter.widget-view+json": {
       "model_id": "a0778f2de38f47b88d69b377158db2f2",
       "version_major": 2,
       "version_minor": 0
      },
      "text/plain": [
       "Sampling noise from thbeup1:   0%|          | 0/3 [00:00<?, ?it/s]"
      ]
     },
     "metadata": {},
     "output_type": "display_data"
    },
    {
     "data": {
      "application/vnd.jupyter.widget-view+json": {
       "model_id": "ef19f2f526af4707ae90851dc6e600b9",
       "version_major": 2,
       "version_minor": 0
      },
      "text/plain": [
       "Sampling noise from rubsee1:   0%|          | 0/3 [00:00<?, ?it/s]"
      ]
     },
     "metadata": {},
     "output_type": "display_data"
    },
    {
     "data": {
      "application/vnd.jupyter.widget-view+json": {
       "model_id": "526809636c9a43a781bfc4e7037a0548",
       "version_major": 2,
       "version_minor": 0
      },
      "text/plain": [
       "Sampling noise from 81930:   0%|          | 0/2 [00:00<?, ?it/s]"
      ]
     },
     "metadata": {},
     "output_type": "display_data"
    },
    {
     "data": {
      "application/vnd.jupyter.widget-view+json": {
       "model_id": "5061abbb07304445be7a442dc6008dad",
       "version_major": 2,
       "version_minor": 0
      },
      "text/plain": [
       "Sampling noise from socfly1:   0%|          | 0/3 [00:00<?, ?it/s]"
      ]
     },
     "metadata": {},
     "output_type": "display_data"
    },
    {
     "data": {
      "application/vnd.jupyter.widget-view+json": {
       "model_id": "634fc8c4b263414898444d29fd769821",
       "version_major": 2,
       "version_minor": 0
      },
      "text/plain": [
       "Sampling noise from blhpar1:   0%|          | 0/3 [00:00<?, ?it/s]"
      ]
     },
     "metadata": {},
     "output_type": "display_data"
    },
    {
     "data": {
      "application/vnd.jupyter.widget-view+json": {
       "model_id": "a4245022ee5543a7b2b1081fb52887a1",
       "version_major": 2,
       "version_minor": 0
      },
      "text/plain": [
       "Sampling noise from 67082:   0%|          | 0/2 [00:00<?, ?it/s]"
      ]
     },
     "metadata": {},
     "output_type": "display_data"
    },
    {
     "data": {
      "application/vnd.jupyter.widget-view+json": {
       "model_id": "340818aed5a44370be76fa2e4f9655bd",
       "version_major": 2,
       "version_minor": 0
      },
      "text/plain": [
       "Sampling noise from grasal4:   0%|          | 0/3 [00:00<?, ?it/s]"
      ]
     },
     "metadata": {},
     "output_type": "display_data"
    },
    {
     "data": {
      "application/vnd.jupyter.widget-view+json": {
       "model_id": "02460df64d26485c9615e48181507cbd",
       "version_major": 2,
       "version_minor": 0
      },
      "text/plain": [
       "Sampling noise from bubcur1:   0%|          | 0/3 [00:00<?, ?it/s]"
      ]
     },
     "metadata": {},
     "output_type": "display_data"
    },
    {
     "data": {
      "application/vnd.jupyter.widget-view+json": {
       "model_id": "740551c7ded94486a9a6b5099fe99df5",
       "version_major": 2,
       "version_minor": 0
      },
      "text/plain": [
       "Sampling noise from 65547:   0%|          | 0/3 [00:00<?, ?it/s]"
      ]
     },
     "metadata": {},
     "output_type": "display_data"
    },
    {
     "data": {
      "application/vnd.jupyter.widget-view+json": {
       "model_id": "9ac1e733c2bf4a129679eaf2c148c087",
       "version_major": 2,
       "version_minor": 0
      },
      "text/plain": [
       "Sampling noise from roahaw:   0%|          | 0/3 [00:00<?, ?it/s]"
      ]
     },
     "metadata": {},
     "output_type": "display_data"
    },
    {
     "data": {
      "application/vnd.jupyter.widget-view+json": {
       "model_id": "ef6bf0dd61bc4711b005dc666cfcd257",
       "version_major": 2,
       "version_minor": 0
      },
      "text/plain": [
       "Sampling noise from 65344:   0%|          | 0/3 [00:00<?, ?it/s]"
      ]
     },
     "metadata": {},
     "output_type": "display_data"
    },
    {
     "data": {
      "application/vnd.jupyter.widget-view+json": {
       "model_id": "8b86c33f34f84cf29bbd46ef1f5b417f",
       "version_major": 2,
       "version_minor": 0
      },
      "text/plain": [
       "Sampling noise from 1192948:   0%|          | 0/3 [00:00<?, ?it/s]"
      ]
     },
     "metadata": {},
     "output_type": "display_data"
    },
    {
     "data": {
      "application/vnd.jupyter.widget-view+json": {
       "model_id": "a6db8085b95347ee8d2d8e86750eb11f",
       "version_major": 2,
       "version_minor": 0
      },
      "text/plain": [
       "Sampling noise from tbsfin1:   0%|          | 0/3 [00:00<?, ?it/s]"
      ]
     },
     "metadata": {},
     "output_type": "display_data"
    },
    {
     "data": {
      "application/vnd.jupyter.widget-view+json": {
       "model_id": "db442d4065b741018cc578b2e5d1abbe",
       "version_major": 2,
       "version_minor": 0
      },
      "text/plain": [
       "Sampling noise from colara1:   0%|          | 0/3 [00:00<?, ?it/s]"
      ]
     },
     "metadata": {},
     "output_type": "display_data"
    },
    {
     "data": {
      "application/vnd.jupyter.widget-view+json": {
       "model_id": "af93fe3470ac4a2f80238ee1dcbc4f86",
       "version_major": 2,
       "version_minor": 0
      },
      "text/plain": [
       "Sampling noise from neocor:   0%|          | 0/3 [00:00<?, ?it/s]"
      ]
     },
     "metadata": {},
     "output_type": "display_data"
    },
    {
     "data": {
      "application/vnd.jupyter.widget-view+json": {
       "model_id": "8511acf7ec6c4b51baf44203545205a9",
       "version_major": 2,
       "version_minor": 0
      },
      "text/plain": [
       "Sampling noise from 1194042:   0%|          | 0/3 [00:00<?, ?it/s]"
      ]
     },
     "metadata": {},
     "output_type": "display_data"
    },
    {
     "data": {
      "application/vnd.jupyter.widget-view+json": {
       "model_id": "5d57ff8197bb4878ba29416c135655b2",
       "version_major": 2,
       "version_minor": 0
      },
      "text/plain": [
       "Sampling noise from 64862:   0%|          | 0/2 [00:00<?, ?it/s]"
      ]
     },
     "metadata": {},
     "output_type": "display_data"
    },
    {
     "data": {
      "application/vnd.jupyter.widget-view+json": {
       "model_id": "9ae24c3f9a534a34a648a4fe0ab71229",
       "version_major": 2,
       "version_minor": 0
      },
      "text/plain": [
       "Sampling noise from labter1:   0%|          | 0/3 [00:00<?, ?it/s]"
      ]
     },
     "metadata": {},
     "output_type": "display_data"
    },
    {
     "data": {
      "application/vnd.jupyter.widget-view+json": {
       "model_id": "67172d8e5b7148eb8a976be8bf535df2",
       "version_major": 2,
       "version_minor": 0
      },
      "text/plain": [
       "Sampling noise from 714022:   0%|          | 0/3 [00:00<?, ?it/s]"
      ]
     },
     "metadata": {},
     "output_type": "display_data"
    },
    {
     "data": {
      "application/vnd.jupyter.widget-view+json": {
       "model_id": "7cf67fd126704c52995da3786a7f1f9f",
       "version_major": 2,
       "version_minor": 0
      },
      "text/plain": [
       "Sampling noise from palhor2:   0%|          | 0/3 [00:00<?, ?it/s]"
      ]
     },
     "metadata": {},
     "output_type": "display_data"
    },
    {
     "data": {
      "application/vnd.jupyter.widget-view+json": {
       "model_id": "749f0560fbe64b7d802113d8c3eac1e4",
       "version_major": 2,
       "version_minor": 0
      },
      "text/plain": [
       "Sampling noise from yercac1:   0%|          | 0/3 [00:00<?, ?it/s]"
      ]
     },
     "metadata": {},
     "output_type": "display_data"
    },
    {
     "data": {
      "application/vnd.jupyter.widget-view+json": {
       "model_id": "8c56a26995d64769ac4c7dbdcabfd46b",
       "version_major": 2,
       "version_minor": 0
      },
      "text/plain": [
       "Sampling noise from plctan1:   0%|          | 0/3 [00:00<?, ?it/s]"
      ]
     },
     "metadata": {},
     "output_type": "display_data"
    },
    {
     "data": {
      "application/vnd.jupyter.widget-view+json": {
       "model_id": "9c62b81daa3a423795c68e8dcd8a76f1",
       "version_major": 2,
       "version_minor": 0
      },
      "text/plain": [
       "Sampling noise from plbwoo1:   0%|          | 0/3 [00:00<?, ?it/s]"
      ]
     },
     "metadata": {},
     "output_type": "display_data"
    },
    {
     "data": {
      "application/vnd.jupyter.widget-view+json": {
       "model_id": "5154ba0711144b52a0ffe6a224af54dd",
       "version_major": 2,
       "version_minor": 0
      },
      "text/plain": [
       "Sampling noise from compot1:   0%|          | 0/3 [00:00<?, ?it/s]"
      ]
     },
     "metadata": {},
     "output_type": "display_data"
    },
    {
     "data": {
      "application/vnd.jupyter.widget-view+json": {
       "model_id": "c5f5486c4d824e86bc7317f9231d864f",
       "version_major": 2,
       "version_minor": 0
      },
      "text/plain": [
       "Sampling noise from colcha1:   0%|          | 0/3 [00:00<?, ?it/s]"
      ]
     },
     "metadata": {},
     "output_type": "display_data"
    },
    {
     "data": {
      "application/vnd.jupyter.widget-view+json": {
       "model_id": "b4c3853abc424d99a9870ee50eed25a9",
       "version_major": 2,
       "version_minor": 0
      },
      "text/plain": [
       "Sampling noise from mastit1:   0%|          | 0/3 [00:00<?, ?it/s]"
      ]
     },
     "metadata": {},
     "output_type": "display_data"
    },
    {
     "data": {
      "application/vnd.jupyter.widget-view+json": {
       "model_id": "8f0b7675260d4150b33a3f6094258b41",
       "version_major": 2,
       "version_minor": 0
      },
      "text/plain": [
       "Sampling noise from strowl1:   0%|          | 0/3 [00:00<?, ?it/s]"
      ]
     },
     "metadata": {},
     "output_type": "display_data"
    },
    {
     "data": {
      "application/vnd.jupyter.widget-view+json": {
       "model_id": "7423fd0a561548558e12a342c26d80df",
       "version_major": 2,
       "version_minor": 0
      },
      "text/plain": [
       "Sampling noise from tropar:   0%|          | 0/3 [00:00<?, ?it/s]"
      ]
     },
     "metadata": {},
     "output_type": "display_data"
    },
    {
     "data": {
      "application/vnd.jupyter.widget-view+json": {
       "model_id": "8820805d01b34156aee6d2430091f3d5",
       "version_major": 2,
       "version_minor": 0
      },
      "text/plain": [
       "Sampling noise from banana:   0%|          | 0/3 [00:00<?, ?it/s]"
      ]
     },
     "metadata": {},
     "output_type": "display_data"
    },
    {
     "data": {
      "application/vnd.jupyter.widget-view+json": {
       "model_id": "6ffedacb440a4f1c8b8a3aa7de7ebc95",
       "version_major": 2,
       "version_minor": 0
      },
      "text/plain": [
       "Sampling noise from bubwre1:   0%|          | 0/3 [00:00<?, ?it/s]"
      ]
     },
     "metadata": {},
     "output_type": "display_data"
    },
    {
     "data": {
      "application/vnd.jupyter.widget-view+json": {
       "model_id": "9baa7ae5e7704dd1831eee4d826b3ec1",
       "version_major": 2,
       "version_minor": 0
      },
      "text/plain": [
       "Sampling noise from shtfly1:   0%|          | 0/3 [00:00<?, ?it/s]"
      ]
     },
     "metadata": {},
     "output_type": "display_data"
    },
    {
     "data": {
      "application/vnd.jupyter.widget-view+json": {
       "model_id": "afe325b63eed4ddc8a4216fc276f7126",
       "version_major": 2,
       "version_minor": 0
      },
      "text/plain": [
       "Sampling noise from grepot1:   0%|          | 0/3 [00:00<?, ?it/s]"
      ]
     },
     "metadata": {},
     "output_type": "display_data"
    },
    {
     "data": {
      "application/vnd.jupyter.widget-view+json": {
       "model_id": "9a91e23679e74bc8bed61b6018539861",
       "version_major": 2,
       "version_minor": 0
      },
      "text/plain": [
       "Sampling noise from cocher1:   0%|          | 0/3 [00:00<?, ?it/s]"
      ]
     },
     "metadata": {},
     "output_type": "display_data"
    },
    {
     "data": {
      "application/vnd.jupyter.widget-view+json": {
       "model_id": "847311ab7353441596f44ad3d77cbd52",
       "version_major": 2,
       "version_minor": 0
      },
      "text/plain": [
       "Sampling noise from yeofly1:   0%|          | 0/3 [00:00<?, ?it/s]"
      ]
     },
     "metadata": {},
     "output_type": "display_data"
    },
    {
     "data": {
      "application/vnd.jupyter.widget-view+json": {
       "model_id": "ed9e1e1d748c48148faf383462c50b61",
       "version_major": 2,
       "version_minor": 0
      },
      "text/plain": [
       "Sampling noise from whmtyr1:   0%|          | 0/3 [00:00<?, ?it/s]"
      ]
     },
     "metadata": {},
     "output_type": "display_data"
    },
    {
     "data": {
      "application/vnd.jupyter.widget-view+json": {
       "model_id": "4910481803dd4e34a3a15c577b6c0c04",
       "version_major": 2,
       "version_minor": 0
      },
      "text/plain": [
       "Sampling noise from solsan:   0%|          | 0/3 [00:00<?, ?it/s]"
      ]
     },
     "metadata": {},
     "output_type": "display_data"
    },
    {
     "data": {
      "application/vnd.jupyter.widget-view+json": {
       "model_id": "1da5492e807149f5aab4d4ee87252cff",
       "version_major": 2,
       "version_minor": 0
      },
      "text/plain": [
       "Sampling noise from whfant1:   0%|          | 0/3 [00:00<?, ?it/s]"
      ]
     },
     "metadata": {},
     "output_type": "display_data"
    },
    {
     "data": {
      "application/vnd.jupyter.widget-view+json": {
       "model_id": "17e7e386509846199dab40dbfe4e42aa",
       "version_major": 2,
       "version_minor": 0
      },
      "text/plain": [
       "Sampling noise from blbwre1:   0%|          | 0/3 [00:00<?, ?it/s]"
      ]
     },
     "metadata": {},
     "output_type": "display_data"
    },
    {
     "data": {
      "application/vnd.jupyter.widget-view+json": {
       "model_id": "2355936b74a94470856605f2d0d9eab8",
       "version_major": 2,
       "version_minor": 0
      },
      "text/plain": [
       "Sampling noise from 517119:   0%|          | 0/3 [00:00<?, ?it/s]"
      ]
     },
     "metadata": {},
     "output_type": "display_data"
    },
    {
     "data": {
      "application/vnd.jupyter.widget-view+json": {
       "model_id": "dd4fa8f5e0484c21b7ea46fecc93f5fa",
       "version_major": 2,
       "version_minor": 0
      },
      "text/plain": [
       "Sampling noise from grysee1:   0%|          | 0/3 [00:00<?, ?it/s]"
      ]
     },
     "metadata": {},
     "output_type": "display_data"
    },
    {
     "data": {
      "application/vnd.jupyter.widget-view+json": {
       "model_id": "58c896542ed44907ae1add52259f6012",
       "version_major": 2,
       "version_minor": 0
      },
      "text/plain": [
       "Sampling noise from srwswa1:   0%|          | 0/3 [00:00<?, ?it/s]"
      ]
     },
     "metadata": {},
     "output_type": "display_data"
    },
    {
     "data": {
      "application/vnd.jupyter.widget-view+json": {
       "model_id": "f027260eba414023a981778f5291c332",
       "version_major": 2,
       "version_minor": 0
      },
      "text/plain": [
       "Sampling noise from creoro1:   0%|          | 0/3 [00:00<?, ?it/s]"
      ]
     },
     "metadata": {},
     "output_type": "display_data"
    },
    {
     "data": {
      "application/vnd.jupyter.widget-view+json": {
       "model_id": "6bdeb26c2f234493988c5a446d21c19c",
       "version_major": 2,
       "version_minor": 0
      },
      "text/plain": [
       "Sampling noise from ragmac1:   0%|          | 0/3 [00:00<?, ?it/s]"
      ]
     },
     "metadata": {},
     "output_type": "display_data"
    },
    {
     "data": {
      "application/vnd.jupyter.widget-view+json": {
       "model_id": "2f892485d46548a8a1f8b95081f60a1c",
       "version_major": 2,
       "version_minor": 0
      },
      "text/plain": [
       "Sampling noise from woosto:   0%|          | 0/3 [00:00<?, ?it/s]"
      ]
     },
     "metadata": {},
     "output_type": "display_data"
    },
    {
     "data": {
      "application/vnd.jupyter.widget-view+json": {
       "model_id": "0a92a8b5751c490ab074231aa88182cd",
       "version_major": 2,
       "version_minor": 0
      },
      "text/plain": [
       "Sampling noise from grbhaw1:   0%|          | 0/3 [00:00<?, ?it/s]"
      ]
     },
     "metadata": {},
     "output_type": "display_data"
    },
    {
     "data": {
      "application/vnd.jupyter.widget-view+json": {
       "model_id": "eaa74b73ede941d4ba3d6283860e2a7b",
       "version_major": 2,
       "version_minor": 0
      },
      "text/plain": [
       "Sampling noise from eardov1:   0%|          | 0/3 [00:00<?, ?it/s]"
      ]
     },
     "metadata": {},
     "output_type": "display_data"
    },
    {
     "data": {
      "application/vnd.jupyter.widget-view+json": {
       "model_id": "f00241c65eb544289534fadb8ec94d31",
       "version_major": 2,
       "version_minor": 0
      },
      "text/plain": [
       "Sampling noise from littin1:   0%|          | 0/3 [00:00<?, ?it/s]"
      ]
     },
     "metadata": {},
     "output_type": "display_data"
    },
    {
     "data": {
      "application/vnd.jupyter.widget-view+json": {
       "model_id": "49e2041121ab4d99969937bb18444b92",
       "version_major": 2,
       "version_minor": 0
      },
      "text/plain": [
       "Sampling noise from secfly1:   0%|          | 0/3 [00:00<?, ?it/s]"
      ]
     },
     "metadata": {},
     "output_type": "display_data"
    },
    {
     "data": {
      "application/vnd.jupyter.widget-view+json": {
       "model_id": "c6bb1c6c4d464233905136d49a1ef37d",
       "version_major": 2,
       "version_minor": 0
      },
      "text/plain": [
       "Sampling noise from yebela1:   0%|          | 0/3 [00:00<?, ?it/s]"
      ]
     },
     "metadata": {},
     "output_type": "display_data"
    },
    {
     "data": {
      "application/vnd.jupyter.widget-view+json": {
       "model_id": "c7304f9b8ecb49e4ad07525db0e97b70",
       "version_major": 2,
       "version_minor": 0
      },
      "text/plain": [
       "Sampling noise from shghum1:   0%|          | 0/3 [00:00<?, ?it/s]"
      ]
     },
     "metadata": {},
     "output_type": "display_data"
    },
    {
     "data": {
      "application/vnd.jupyter.widget-view+json": {
       "model_id": "fb93c68d8e3d4c54b09bd253ecbffdfd",
       "version_major": 2,
       "version_minor": 0
      },
      "text/plain": [
       "Sampling noise from yecspi2:   0%|          | 0/3 [00:00<?, ?it/s]"
      ]
     },
     "metadata": {},
     "output_type": "display_data"
    },
    {
     "data": {
      "application/vnd.jupyter.widget-view+json": {
       "model_id": "b1fc8e515cd14895aa465f08c505a9e3",
       "version_major": 2,
       "version_minor": 0
      },
      "text/plain": [
       "Sampling noise from babwar:   0%|          | 0/3 [00:00<?, ?it/s]"
      ]
     },
     "metadata": {},
     "output_type": "display_data"
    },
    {
     "data": {
      "application/vnd.jupyter.widget-view+json": {
       "model_id": "0cb2765e60df42de982568413e10367f",
       "version_major": 2,
       "version_minor": 0
      },
      "text/plain": [
       "Sampling noise from whbant1:   0%|          | 0/3 [00:00<?, ?it/s]"
      ]
     },
     "metadata": {},
     "output_type": "display_data"
    },
    {
     "data": {
      "application/vnd.jupyter.widget-view+json": {
       "model_id": "370b6d4f257d404487d4cf98a825795a",
       "version_major": 2,
       "version_minor": 0
      },
      "text/plain": [
       "Sampling noise from 42007:   0%|          | 0/3 [00:00<?, ?it/s]"
      ]
     },
     "metadata": {},
     "output_type": "display_data"
    },
    {
     "data": {
      "application/vnd.jupyter.widget-view+json": {
       "model_id": "caa65d36d11b4536b2d9cd9bf0266ca5",
       "version_major": 2,
       "version_minor": 0
      },
      "text/plain": [
       "Sampling noise from 1346504:   0%|          | 0/3 [00:00<?, ?it/s]"
      ]
     },
     "metadata": {},
     "output_type": "display_data"
    },
    {
     "data": {
      "application/vnd.jupyter.widget-view+json": {
       "model_id": "075fb66507c847089d00d12c0d554d4e",
       "version_major": 2,
       "version_minor": 0
      },
      "text/plain": [
       "Sampling noise from verfly:   0%|          | 0/3 [00:00<?, ?it/s]"
      ]
     },
     "metadata": {},
     "output_type": "display_data"
    },
    {
     "data": {
      "application/vnd.jupyter.widget-view+json": {
       "model_id": "adfe81604b8b46c18d0d7f56e01f4303",
       "version_major": 2,
       "version_minor": 0
      },
      "text/plain": [
       "Sampling noise from 65419:   0%|          | 0/3 [00:00<?, ?it/s]"
      ]
     },
     "metadata": {},
     "output_type": "display_data"
    },
    {
     "data": {
      "application/vnd.jupyter.widget-view+json": {
       "model_id": "763a3c76279d45d1aa512615c56c629e",
       "version_major": 2,
       "version_minor": 0
      },
      "text/plain": [
       "Sampling noise from saffin:   0%|          | 0/3 [00:00<?, ?it/s]"
      ]
     },
     "metadata": {},
     "output_type": "display_data"
    },
    {
     "data": {
      "application/vnd.jupyter.widget-view+json": {
       "model_id": "ac118689c6214a8da7777992f07097bf",
       "version_major": 2,
       "version_minor": 0
      },
      "text/plain": [
       "Sampling noise from rumfly1:   0%|          | 0/3 [00:00<?, ?it/s]"
      ]
     },
     "metadata": {},
     "output_type": "display_data"
    },
    {
     "data": {
      "application/vnd.jupyter.widget-view+json": {
       "model_id": "4e5834110ea746b9ae5fda6cf571f951",
       "version_major": 2,
       "version_minor": 0
      },
      "text/plain": [
       "Sampling noise from 555086:   0%|          | 0/3 [00:00<?, ?it/s]"
      ]
     },
     "metadata": {},
     "output_type": "display_data"
    },
    {
     "data": {
      "application/vnd.jupyter.widget-view+json": {
       "model_id": "42e9e509da334f1db98c9070412abdf4",
       "version_major": 2,
       "version_minor": 0
      },
      "text/plain": [
       "Sampling noise from cattyr:   0%|          | 0/3 [00:00<?, ?it/s]"
      ]
     },
     "metadata": {},
     "output_type": "display_data"
    },
    {
     "data": {
      "application/vnd.jupyter.widget-view+json": {
       "model_id": "e44a161e6b644ad19c2b56810867b7bc",
       "version_major": 2,
       "version_minor": 0
      },
      "text/plain": [
       "Sampling noise from 528041:   0%|          | 0/2 [00:00<?, ?it/s]"
      ]
     },
     "metadata": {},
     "output_type": "display_data"
    },
    {
     "data": {
      "application/vnd.jupyter.widget-view+json": {
       "model_id": "ed6948321fa044b1a1deaeaf00004178",
       "version_major": 2,
       "version_minor": 0
      },
      "text/plain": [
       "Sampling noise from strher:   0%|          | 0/3 [00:00<?, ?it/s]"
      ]
     },
     "metadata": {},
     "output_type": "display_data"
    },
    {
     "data": {
      "application/vnd.jupyter.widget-view+json": {
       "model_id": "9afca26dd186433f9b7f46d689fb0dfb",
       "version_major": 2,
       "version_minor": 0
      },
      "text/plain": [
       "Sampling noise from blchaw1:   0%|          | 0/3 [00:00<?, ?it/s]"
      ]
     },
     "metadata": {},
     "output_type": "display_data"
    },
    {
     "data": {
      "application/vnd.jupyter.widget-view+json": {
       "model_id": "d53d09e4fe2945989405372ae746c00a",
       "version_major": 2,
       "version_minor": 0
      },
      "text/plain": [
       "Sampling noise from gycwor1:   0%|          | 0/3 [00:00<?, ?it/s]"
      ]
     },
     "metadata": {},
     "output_type": "display_data"
    },
    {
     "data": {
      "application/vnd.jupyter.widget-view+json": {
       "model_id": "2fc23de4d0614140b66c96fb720c6491",
       "version_major": 2,
       "version_minor": 0
      },
      "text/plain": [
       "Sampling noise from wbwwre1:   0%|          | 0/3 [00:00<?, ?it/s]"
      ]
     },
     "metadata": {},
     "output_type": "display_data"
    },
    {
     "data": {
      "application/vnd.jupyter.widget-view+json": {
       "model_id": "18e454dc26984e44b88ad5e7d9389ae5",
       "version_major": 2,
       "version_minor": 0
      },
      "text/plain": [
       "Sampling noise from crebob1:   0%|          | 0/3 [00:00<?, ?it/s]"
      ]
     },
     "metadata": {},
     "output_type": "display_data"
    },
    {
     "data": {
      "application/vnd.jupyter.widget-view+json": {
       "model_id": "d42f2e97983b426d8c0c6f5289aa8abc",
       "version_major": 2,
       "version_minor": 0
      },
      "text/plain": [
       "Sampling noise from yectyr1:   0%|          | 0/3 [00:00<?, ?it/s]"
      ]
     },
     "metadata": {},
     "output_type": "display_data"
    },
    {
     "data": {
      "application/vnd.jupyter.widget-view+json": {
       "model_id": "c53b1f3f35bd465e90d0b6eb93fe3366",
       "version_major": 2,
       "version_minor": 0
      },
      "text/plain": [
       "Sampling noise from 22976:   0%|          | 0/3 [00:00<?, ?it/s]"
      ]
     },
     "metadata": {},
     "output_type": "display_data"
    },
    {
     "data": {
      "application/vnd.jupyter.widget-view+json": {
       "model_id": "7171c5282d7841e29fa3dfb828db633d",
       "version_major": 2,
       "version_minor": 0
      },
      "text/plain": [
       "Sampling noise from 66893:   0%|          | 0/3 [00:00<?, ?it/s]"
      ]
     },
     "metadata": {},
     "output_type": "display_data"
    },
    {
     "data": {
      "application/vnd.jupyter.widget-view+json": {
       "model_id": "a6789474d16249fab09c4a20755f3ce3",
       "version_major": 2,
       "version_minor": 0
      },
      "text/plain": [
       "Sampling noise from ruther1:   0%|          | 0/3 [00:00<?, ?it/s]"
      ]
     },
     "metadata": {},
     "output_type": "display_data"
    },
    {
     "data": {
      "application/vnd.jupyter.widget-view+json": {
       "model_id": "29dee98a9c08476c83dedfa46c49a0fe",
       "version_major": 2,
       "version_minor": 0
      },
      "text/plain": [
       "Sampling noise from rutpuf1:   0%|          | 0/3 [00:00<?, ?it/s]"
      ]
     },
     "metadata": {},
     "output_type": "display_data"
    },
    {
     "name": "stdout",
     "output_type": "stream",
     "text": [
      "Collected 600 ambient noise samples\n"
     ]
    },
    {
     "data": {
      "application/vnd.jupyter.widget-view+json": {
       "model_id": "f299f0856ec849649502f746fedf9806",
       "version_major": 2,
       "version_minor": 0
      },
      "text/plain": [
       "Processing folders:   0%|          | 0/206 [00:00<?, ?it/s]"
      ]
     },
     "metadata": {},
     "output_type": "display_data"
    },
    {
     "data": {
      "application/vnd.jupyter.widget-view+json": {
       "model_id": "59db82794f0a48e692908bf503424dab",
       "version_major": 2,
       "version_minor": 0
      },
      "text/plain": [
       "Processing audio files:   0%|          | 0/56 [00:00<?, ?it/s]"
      ]
     },
     "metadata": {},
     "output_type": "display_data"
    },
    {
     "data": {
      "application/vnd.jupyter.widget-view+json": {
       "model_id": "dcc7880681414fae8c5b5f69860bbaea",
       "version_major": 2,
       "version_minor": 0
      },
      "text/plain": [
       "Processing audio files:   0%|          | 0/20 [00:00<?, ?it/s]"
      ]
     },
     "metadata": {},
     "output_type": "display_data"
    },
    {
     "data": {
      "application/vnd.jupyter.widget-view+json": {
       "model_id": "51902493606041d0b833901b6b263bb2",
       "version_major": 2,
       "version_minor": 0
      },
      "text/plain": [
       "Processing audio files:   0%|          | 0/2 [00:00<?, ?it/s]"
      ]
     },
     "metadata": {},
     "output_type": "display_data"
    },
    {
     "data": {
      "application/vnd.jupyter.widget-view+json": {
       "model_id": "e9b2db159ab94c7fbf2678fa53bf663e",
       "version_major": 2,
       "version_minor": 0
      },
      "text/plain": [
       "Processing audio files:   0%|          | 0/2 [00:00<?, ?it/s]"
      ]
     },
     "metadata": {},
     "output_type": "display_data"
    },
    {
     "data": {
      "application/vnd.jupyter.widget-view+json": {
       "model_id": "0cfc6bbd0c7e4a7e902a374dfad43cb4",
       "version_major": 2,
       "version_minor": 0
      },
      "text/plain": [
       "Processing audio files:   0%|          | 0/2 [00:00<?, ?it/s]"
      ]
     },
     "metadata": {},
     "output_type": "display_data"
    },
    {
     "data": {
      "application/vnd.jupyter.widget-view+json": {
       "model_id": "a7a28e976b024cb49918a11293b23bbe",
       "version_major": 2,
       "version_minor": 0
      },
      "text/plain": [
       "Processing audio files:   0%|          | 0/144 [00:00<?, ?it/s]"
      ]
     },
     "metadata": {},
     "output_type": "display_data"
    },
    {
     "data": {
      "application/vnd.jupyter.widget-view+json": {
       "model_id": "83a9eba37e3849babc7cec87cbba8726",
       "version_major": 2,
       "version_minor": 0
      },
      "text/plain": [
       "Processing audio files:   0%|          | 0/105 [00:00<?, ?it/s]"
      ]
     },
     "metadata": {},
     "output_type": "display_data"
    },
    {
     "data": {
      "application/vnd.jupyter.widget-view+json": {
       "model_id": "ebccf52ee7ae4950a128b3633e0d4894",
       "version_major": 2,
       "version_minor": 0
      },
      "text/plain": [
       "Processing audio files:   0%|          | 0/7 [00:00<?, ?it/s]"
      ]
     },
     "metadata": {},
     "output_type": "display_data"
    },
    {
     "data": {
      "application/vnd.jupyter.widget-view+json": {
       "model_id": "29ea092029cb47789677493cc6642fef",
       "version_major": 2,
       "version_minor": 0
      },
      "text/plain": [
       "Processing audio files:   0%|          | 0/3 [00:00<?, ?it/s]"
      ]
     },
     "metadata": {},
     "output_type": "display_data"
    },
    {
     "data": {
      "application/vnd.jupyter.widget-view+json": {
       "model_id": "02e6983c601a435f9483268b62a8b060",
       "version_major": 2,
       "version_minor": 0
      },
      "text/plain": [
       "Processing audio files:   0%|          | 0/2 [00:00<?, ?it/s]"
      ]
     },
     "metadata": {},
     "output_type": "display_data"
    },
    {
     "data": {
      "application/vnd.jupyter.widget-view+json": {
       "model_id": "895e36ef5fb9478bacd47a6b71c254f0",
       "version_major": 2,
       "version_minor": 0
      },
      "text/plain": [
       "Processing audio files:   0%|          | 0/5 [00:00<?, ?it/s]"
      ]
     },
     "metadata": {},
     "output_type": "display_data"
    },
    {
     "data": {
      "application/vnd.jupyter.widget-view+json": {
       "model_id": "3dd2bbfc229a4db2b8152a5ba614b1eb",
       "version_major": 2,
       "version_minor": 0
      },
      "text/plain": [
       "Processing audio files:   0%|          | 0/808 [00:00<?, ?it/s]"
      ]
     },
     "metadata": {},
     "output_type": "display_data"
    },
    {
     "data": {
      "application/vnd.jupyter.widget-view+json": {
       "model_id": "0cb1c93f59504f3b90728726b140eecf",
       "version_major": 2,
       "version_minor": 0
      },
      "text/plain": [
       "Processing audio files:   0%|          | 0/164 [00:00<?, ?it/s]"
      ]
     },
     "metadata": {},
     "output_type": "display_data"
    },
    {
     "data": {
      "application/vnd.jupyter.widget-view+json": {
       "model_id": "abb8533a530944bdbd723244140502aa",
       "version_major": 2,
       "version_minor": 0
      },
      "text/plain": [
       "Processing audio files:   0%|          | 0/30 [00:00<?, ?it/s]"
      ]
     },
     "metadata": {},
     "output_type": "display_data"
    },
    {
     "data": {
      "application/vnd.jupyter.widget-view+json": {
       "model_id": "4d7dc5f33d5648a8b3f7f4e6bd4f4165",
       "version_major": 2,
       "version_minor": 0
      },
      "text/plain": [
       "Processing audio files:   0%|          | 0/74 [00:00<?, ?it/s]"
      ]
     },
     "metadata": {},
     "output_type": "display_data"
    },
    {
     "data": {
      "application/vnd.jupyter.widget-view+json": {
       "model_id": "5270be7339f04ba0921d2271e71dd76e",
       "version_major": 2,
       "version_minor": 0
      },
      "text/plain": [
       "Processing audio files:   0%|          | 0/50 [00:00<?, ?it/s]"
      ]
     },
     "metadata": {},
     "output_type": "display_data"
    },
    {
     "data": {
      "application/vnd.jupyter.widget-view+json": {
       "model_id": "35b342dc70c9411b915d31e3670210b8",
       "version_major": 2,
       "version_minor": 0
      },
      "text/plain": [
       "Processing audio files:   0%|          | 0/33 [00:00<?, ?it/s]"
      ]
     },
     "metadata": {},
     "output_type": "display_data"
    },
    {
     "data": {
      "application/vnd.jupyter.widget-view+json": {
       "model_id": "7b22391604db4a5d868fb16213755d1b",
       "version_major": 2,
       "version_minor": 0
      },
      "text/plain": [
       "Processing audio files:   0%|          | 0/4 [00:00<?, ?it/s]"
      ]
     },
     "metadata": {},
     "output_type": "display_data"
    },
    {
     "data": {
      "application/vnd.jupyter.widget-view+json": {
       "model_id": "5a908b252cd34b46a319f6c9b9d68fc2",
       "version_major": 2,
       "version_minor": 0
      },
      "text/plain": [
       "Processing audio files:   0%|          | 0/40 [00:00<?, ?it/s]"
      ]
     },
     "metadata": {},
     "output_type": "display_data"
    },
    {
     "data": {
      "application/vnd.jupyter.widget-view+json": {
       "model_id": "b08ad6e5342c4755b7bf88bffcc42d23",
       "version_major": 2,
       "version_minor": 0
      },
      "text/plain": [
       "Processing audio files:   0%|          | 0/67 [00:00<?, ?it/s]"
      ]
     },
     "metadata": {},
     "output_type": "display_data"
    },
    {
     "data": {
      "application/vnd.jupyter.widget-view+json": {
       "model_id": "c5783c87e88646be926a506c6a7b8b57",
       "version_major": 2,
       "version_minor": 0
      },
      "text/plain": [
       "Processing audio files:   0%|          | 0/5 [00:00<?, ?it/s]"
      ]
     },
     "metadata": {},
     "output_type": "display_data"
    },
    {
     "data": {
      "application/vnd.jupyter.widget-view+json": {
       "model_id": "9dc7fbf603fd43f6b3ff041d29a8281a",
       "version_major": 2,
       "version_minor": 0
      },
      "text/plain": [
       "Processing audio files:   0%|          | 0/5 [00:00<?, ?it/s]"
      ]
     },
     "metadata": {},
     "output_type": "display_data"
    },
    {
     "data": {
      "application/vnd.jupyter.widget-view+json": {
       "model_id": "1c3bd16226404fc4b6a41c19daa85257",
       "version_major": 2,
       "version_minor": 0
      },
      "text/plain": [
       "Processing audio files:   0%|          | 0/108 [00:00<?, ?it/s]"
      ]
     },
     "metadata": {},
     "output_type": "display_data"
    },
    {
     "data": {
      "application/vnd.jupyter.widget-view+json": {
       "model_id": "24c3ab3e1b5e4d8980af8c5f9495b546",
       "version_major": 2,
       "version_minor": 0
      },
      "text/plain": [
       "Processing audio files:   0%|          | 0/109 [00:00<?, ?it/s]"
      ]
     },
     "metadata": {},
     "output_type": "display_data"
    },
    {
     "data": {
      "application/vnd.jupyter.widget-view+json": {
       "model_id": "0c6b313d53864316bbfb60456bf144ec",
       "version_major": 2,
       "version_minor": 0
      },
      "text/plain": [
       "Processing audio files:   0%|          | 0/28 [00:00<?, ?it/s]"
      ]
     },
     "metadata": {},
     "output_type": "display_data"
    },
    {
     "data": {
      "application/vnd.jupyter.widget-view+json": {
       "model_id": "7f958e08cb99428ba21342bad935b1da",
       "version_major": 2,
       "version_minor": 0
      },
      "text/plain": [
       "Processing audio files:   0%|          | 0/38 [00:00<?, ?it/s]"
      ]
     },
     "metadata": {},
     "output_type": "display_data"
    },
    {
     "data": {
      "application/vnd.jupyter.widget-view+json": {
       "model_id": "5039a80c728e4c698636264ad390f42c",
       "version_major": 2,
       "version_minor": 0
      },
      "text/plain": [
       "Processing audio files:   0%|          | 0/127 [00:00<?, ?it/s]"
      ]
     },
     "metadata": {},
     "output_type": "display_data"
    },
    {
     "data": {
      "application/vnd.jupyter.widget-view+json": {
       "model_id": "cce6b63037c548f3bc7642d5c5e707a7",
       "version_major": 2,
       "version_minor": 0
      },
      "text/plain": [
       "Processing audio files:   0%|          | 0/54 [00:00<?, ?it/s]"
      ]
     },
     "metadata": {},
     "output_type": "display_data"
    },
    {
     "data": {
      "application/vnd.jupyter.widget-view+json": {
       "model_id": "02f540baab194a1e91bf27894a56babe",
       "version_major": 2,
       "version_minor": 0
      },
      "text/plain": [
       "Processing audio files:   0%|          | 0/47 [00:00<?, ?it/s]"
      ]
     },
     "metadata": {},
     "output_type": "display_data"
    },
    {
     "data": {
      "application/vnd.jupyter.widget-view+json": {
       "model_id": "74aae2a56542431281bc9665ebfb24e1",
       "version_major": 2,
       "version_minor": 0
      },
      "text/plain": [
       "Processing audio files:   0%|          | 0/34 [00:00<?, ?it/s]"
      ]
     },
     "metadata": {},
     "output_type": "display_data"
    },
    {
     "data": {
      "application/vnd.jupyter.widget-view+json": {
       "model_id": "acb95891e23046648056a72e63e682af",
       "version_major": 2,
       "version_minor": 0
      },
      "text/plain": [
       "Processing audio files:   0%|          | 0/60 [00:00<?, ?it/s]"
      ]
     },
     "metadata": {},
     "output_type": "display_data"
    },
    {
     "data": {
      "application/vnd.jupyter.widget-view+json": {
       "model_id": "bcec7892f8a147e182d38c339dce5125",
       "version_major": 2,
       "version_minor": 0
      },
      "text/plain": [
       "Processing audio files:   0%|          | 0/90 [00:00<?, ?it/s]"
      ]
     },
     "metadata": {},
     "output_type": "display_data"
    },
    {
     "data": {
      "application/vnd.jupyter.widget-view+json": {
       "model_id": "348901f0012644969379498c23ed39cd",
       "version_major": 2,
       "version_minor": 0
      },
      "text/plain": [
       "Processing audio files:   0%|          | 0/261 [00:00<?, ?it/s]"
      ]
     },
     "metadata": {},
     "output_type": "display_data"
    },
    {
     "data": {
      "application/vnd.jupyter.widget-view+json": {
       "model_id": "d6e1b9539b444fe2b651a259421a39f0",
       "version_major": 2,
       "version_minor": 0
      },
      "text/plain": [
       "Processing audio files:   0%|          | 0/15 [00:00<?, ?it/s]"
      ]
     },
     "metadata": {},
     "output_type": "display_data"
    },
    {
     "data": {
      "application/vnd.jupyter.widget-view+json": {
       "model_id": "2109e2d06a244772b407fd2623f696fb",
       "version_major": 2,
       "version_minor": 0
      },
      "text/plain": [
       "Processing audio files:   0%|          | 0/149 [00:00<?, ?it/s]"
      ]
     },
     "metadata": {},
     "output_type": "display_data"
    },
    {
     "data": {
      "application/vnd.jupyter.widget-view+json": {
       "model_id": "1e6b424ad281459199b9ffd50a17fa66",
       "version_major": 2,
       "version_minor": 0
      },
      "text/plain": [
       "Processing audio files:   0%|          | 0/298 [00:00<?, ?it/s]"
      ]
     },
     "metadata": {},
     "output_type": "display_data"
    },
    {
     "data": {
      "application/vnd.jupyter.widget-view+json": {
       "model_id": "2f62442e3511465ba8f9b0b6c1c9adae",
       "version_major": 2,
       "version_minor": 0
      },
      "text/plain": [
       "Processing audio files:   0%|          | 0/6 [00:00<?, ?it/s]"
      ]
     },
     "metadata": {},
     "output_type": "display_data"
    },
    {
     "data": {
      "application/vnd.jupyter.widget-view+json": {
       "model_id": "9d2f1270a461452681dc8ed3ac628533",
       "version_major": 2,
       "version_minor": 0
      },
      "text/plain": [
       "Processing audio files:   0%|          | 0/132 [00:00<?, ?it/s]"
      ]
     },
     "metadata": {},
     "output_type": "display_data"
    },
    {
     "data": {
      "application/vnd.jupyter.widget-view+json": {
       "model_id": "e63fe8f01618401ab5ba772ff62ee7a9",
       "version_major": 2,
       "version_minor": 0
      },
      "text/plain": [
       "Processing audio files:   0%|          | 0/2 [00:00<?, ?it/s]"
      ]
     },
     "metadata": {},
     "output_type": "display_data"
    },
    {
     "data": {
      "application/vnd.jupyter.widget-view+json": {
       "model_id": "ed3da8182000465ca93801ca3c7b5504",
       "version_major": 2,
       "version_minor": 0
      },
      "text/plain": [
       "Processing audio files:   0%|          | 0/2 [00:00<?, ?it/s]"
      ]
     },
     "metadata": {},
     "output_type": "display_data"
    },
    {
     "data": {
      "application/vnd.jupyter.widget-view+json": {
       "model_id": "dd082bf4a8144fa9b5a79fb406e3183a",
       "version_major": 2,
       "version_minor": 0
      },
      "text/plain": [
       "Processing audio files:   0%|          | 0/260 [00:00<?, ?it/s]"
      ]
     },
     "metadata": {},
     "output_type": "display_data"
    },
    {
     "data": {
      "application/vnd.jupyter.widget-view+json": {
       "model_id": "a81fcf958cdd49a0a19aded2ef6dcd80",
       "version_major": 2,
       "version_minor": 0
      },
      "text/plain": [
       "Processing audio files:   0%|          | 0/188 [00:00<?, ?it/s]"
      ]
     },
     "metadata": {},
     "output_type": "display_data"
    },
    {
     "data": {
      "application/vnd.jupyter.widget-view+json": {
       "model_id": "31b39314e0ec49f6848d5783e63f443b",
       "version_major": 2,
       "version_minor": 0
      },
      "text/plain": [
       "Processing audio files:   0%|          | 0/27 [00:00<?, ?it/s]"
      ]
     },
     "metadata": {},
     "output_type": "display_data"
    },
    {
     "data": {
      "application/vnd.jupyter.widget-view+json": {
       "model_id": "c1420bbf63cf4e61b3b20ff242444563",
       "version_major": 2,
       "version_minor": 0
      },
      "text/plain": [
       "Processing audio files:   0%|          | 0/89 [00:00<?, ?it/s]"
      ]
     },
     "metadata": {},
     "output_type": "display_data"
    },
    {
     "data": {
      "application/vnd.jupyter.widget-view+json": {
       "model_id": "8d2624d38260467c8736fafec2b06028",
       "version_major": 2,
       "version_minor": 0
      },
      "text/plain": [
       "Processing audio files:   0%|          | 0/5 [00:00<?, ?it/s]"
      ]
     },
     "metadata": {},
     "output_type": "display_data"
    },
    {
     "data": {
      "application/vnd.jupyter.widget-view+json": {
       "model_id": "7dd2b224309b4eddb49977c4cbd64b95",
       "version_major": 2,
       "version_minor": 0
      },
      "text/plain": [
       "Processing audio files:   0%|          | 0/340 [00:00<?, ?it/s]"
      ]
     },
     "metadata": {},
     "output_type": "display_data"
    },
    {
     "data": {
      "application/vnd.jupyter.widget-view+json": {
       "model_id": "d2b88a33093b478286e13c5972f171d9",
       "version_major": 2,
       "version_minor": 0
      },
      "text/plain": [
       "Processing audio files:   0%|          | 0/2 [00:00<?, ?it/s]"
      ]
     },
     "metadata": {},
     "output_type": "display_data"
    },
    {
     "data": {
      "application/vnd.jupyter.widget-view+json": {
       "model_id": "cdc1eab8b9b642e3b06e66dc6c84150a",
       "version_major": 2,
       "version_minor": 0
      },
      "text/plain": [
       "Processing audio files:   0%|          | 0/380 [00:00<?, ?it/s]"
      ]
     },
     "metadata": {},
     "output_type": "display_data"
    },
    {
     "data": {
      "application/vnd.jupyter.widget-view+json": {
       "model_id": "1f14d810f35a49629e92a7c8f9cd7861",
       "version_major": 2,
       "version_minor": 0
      },
      "text/plain": [
       "Processing audio files:   0%|          | 0/14 [00:00<?, ?it/s]"
      ]
     },
     "metadata": {},
     "output_type": "display_data"
    },
    {
     "data": {
      "application/vnd.jupyter.widget-view+json": {
       "model_id": "5ac3056e58fd44f38f1af45c33444eea",
       "version_major": 2,
       "version_minor": 0
      },
      "text/plain": [
       "Processing audio files:   0%|          | 0/81 [00:00<?, ?it/s]"
      ]
     },
     "metadata": {},
     "output_type": "display_data"
    },
    {
     "data": {
      "application/vnd.jupyter.widget-view+json": {
       "model_id": "d3e86f7371134bc9afd8bd353b088772",
       "version_major": 2,
       "version_minor": 0
      },
      "text/plain": [
       "Processing audio files:   0%|          | 0/169 [00:00<?, ?it/s]"
      ]
     },
     "metadata": {},
     "output_type": "display_data"
    },
    {
     "data": {
      "application/vnd.jupyter.widget-view+json": {
       "model_id": "73e0f60cd36a4183870a041176412ac8",
       "version_major": 2,
       "version_minor": 0
      },
      "text/plain": [
       "Processing audio files:   0%|          | 0/13 [00:00<?, ?it/s]"
      ]
     },
     "metadata": {},
     "output_type": "display_data"
    },
    {
     "data": {
      "application/vnd.jupyter.widget-view+json": {
       "model_id": "e81509ef9e1a44da8d5eee42dd727592",
       "version_major": 2,
       "version_minor": 0
      },
      "text/plain": [
       "Processing audio files:   0%|          | 0/287 [00:00<?, ?it/s]"
      ]
     },
     "metadata": {},
     "output_type": "display_data"
    },
    {
     "data": {
      "application/vnd.jupyter.widget-view+json": {
       "model_id": "a32d04ee474b48e4808e3463602839a1",
       "version_major": 2,
       "version_minor": 0
      },
      "text/plain": [
       "Processing audio files:   0%|          | 0/2 [00:00<?, ?it/s]"
      ]
     },
     "metadata": {},
     "output_type": "display_data"
    },
    {
     "data": {
      "application/vnd.jupyter.widget-view+json": {
       "model_id": "9cf4779357b54daca2c53295d5a12d91",
       "version_major": 2,
       "version_minor": 0
      },
      "text/plain": [
       "Processing audio files:   0%|          | 0/16 [00:00<?, ?it/s]"
      ]
     },
     "metadata": {},
     "output_type": "display_data"
    },
    {
     "data": {
      "application/vnd.jupyter.widget-view+json": {
       "model_id": "7f58dc499a2b47be92513b48c37015c8",
       "version_major": 2,
       "version_minor": 0
      },
      "text/plain": [
       "Processing audio files:   0%|          | 0/133 [00:00<?, ?it/s]"
      ]
     },
     "metadata": {},
     "output_type": "display_data"
    },
    {
     "data": {
      "application/vnd.jupyter.widget-view+json": {
       "model_id": "7f4dfab56b7643e9b922804ccb051d6f",
       "version_major": 2,
       "version_minor": 0
      },
      "text/plain": [
       "Processing audio files:   0%|          | 0/21 [00:00<?, ?it/s]"
      ]
     },
     "metadata": {},
     "output_type": "display_data"
    },
    {
     "data": {
      "application/vnd.jupyter.widget-view+json": {
       "model_id": "39c77a54f21940d4bd4f6ae7bed7e372",
       "version_major": 2,
       "version_minor": 0
      },
      "text/plain": [
       "Processing audio files:   0%|          | 0/76 [00:00<?, ?it/s]"
      ]
     },
     "metadata": {},
     "output_type": "display_data"
    },
    {
     "data": {
      "application/vnd.jupyter.widget-view+json": {
       "model_id": "679a9f9a394a4f3999ebb63f8992dbd8",
       "version_major": 2,
       "version_minor": 0
      },
      "text/plain": [
       "Processing audio files:   0%|          | 0/467 [00:00<?, ?it/s]"
      ]
     },
     "metadata": {},
     "output_type": "display_data"
    },
    {
     "data": {
      "application/vnd.jupyter.widget-view+json": {
       "model_id": "b17d0544e7c7415c903f22ad93048f97",
       "version_major": 2,
       "version_minor": 0
      },
      "text/plain": [
       "Processing audio files:   0%|          | 0/14 [00:00<?, ?it/s]"
      ]
     },
     "metadata": {},
     "output_type": "display_data"
    },
    {
     "data": {
      "application/vnd.jupyter.widget-view+json": {
       "model_id": "8f5e1fac0db24464a6fe831720cfd59d",
       "version_major": 2,
       "version_minor": 0
      },
      "text/plain": [
       "Processing audio files:   0%|          | 0/6 [00:00<?, ?it/s]"
      ]
     },
     "metadata": {},
     "output_type": "display_data"
    },
    {
     "data": {
      "application/vnd.jupyter.widget-view+json": {
       "model_id": "1ae2d07706e543daae060d54dace3d2f",
       "version_major": 2,
       "version_minor": 0
      },
      "text/plain": [
       "Processing audio files:   0%|          | 0/431 [00:00<?, ?it/s]"
      ]
     },
     "metadata": {},
     "output_type": "display_data"
    },
    {
     "data": {
      "application/vnd.jupyter.widget-view+json": {
       "model_id": "37b097ed4e2747debe0432e346c3449b",
       "version_major": 2,
       "version_minor": 0
      },
      "text/plain": [
       "Processing audio files:   0%|          | 0/2 [00:00<?, ?it/s]"
      ]
     },
     "metadata": {},
     "output_type": "display_data"
    },
    {
     "data": {
      "application/vnd.jupyter.widget-view+json": {
       "model_id": "ecbc5dd4fffe499888c9d7c1631143d4",
       "version_major": 2,
       "version_minor": 0
      },
      "text/plain": [
       "Processing audio files:   0%|          | 0/48 [00:00<?, ?it/s]"
      ]
     },
     "metadata": {},
     "output_type": "display_data"
    },
    {
     "data": {
      "application/vnd.jupyter.widget-view+json": {
       "model_id": "6fe080a6219d4636be9e32611ee94b05",
       "version_major": 2,
       "version_minor": 0
      },
      "text/plain": [
       "Processing audio files:   0%|          | 0/409 [00:00<?, ?it/s]"
      ]
     },
     "metadata": {},
     "output_type": "display_data"
    },
    {
     "data": {
      "application/vnd.jupyter.widget-view+json": {
       "model_id": "21017cf3d6cf4cb081bb5ec96a882a04",
       "version_major": 2,
       "version_minor": 0
      },
      "text/plain": [
       "Processing audio files:   0%|          | 0/75 [00:00<?, ?it/s]"
      ]
     },
     "metadata": {},
     "output_type": "display_data"
    },
    {
     "data": {
      "application/vnd.jupyter.widget-view+json": {
       "model_id": "8320afa1b5124b45960b0d548454b3f1",
       "version_major": 2,
       "version_minor": 0
      },
      "text/plain": [
       "Processing audio files:   0%|          | 0/787 [00:00<?, ?it/s]"
      ]
     },
     "metadata": {},
     "output_type": "display_data"
    },
    {
     "data": {
      "application/vnd.jupyter.widget-view+json": {
       "model_id": "011b7ee3bad546c38d98887288de4d97",
       "version_major": 2,
       "version_minor": 0
      },
      "text/plain": [
       "Processing audio files:   0%|          | 0/79 [00:00<?, ?it/s]"
      ]
     },
     "metadata": {},
     "output_type": "display_data"
    },
    {
     "data": {
      "application/vnd.jupyter.widget-view+json": {
       "model_id": "0e67cc30d152449da6146c57e4f04aed",
       "version_major": 2,
       "version_minor": 0
      },
      "text/plain": [
       "Processing audio files:   0%|          | 0/70 [00:00<?, ?it/s]"
      ]
     },
     "metadata": {},
     "output_type": "display_data"
    },
    {
     "data": {
      "application/vnd.jupyter.widget-view+json": {
       "model_id": "fbb0da79c30141d9a8a01586fbafc61d",
       "version_major": 2,
       "version_minor": 0
      },
      "text/plain": [
       "Processing audio files:   0%|          | 0/990 [00:00<?, ?it/s]"
      ]
     },
     "metadata": {},
     "output_type": "display_data"
    },
    {
     "data": {
      "application/vnd.jupyter.widget-view+json": {
       "model_id": "3b93e8c11c1441858410cad4bb3ab991",
       "version_major": 2,
       "version_minor": 0
      },
      "text/plain": [
       "Processing audio files:   0%|          | 0/142 [00:00<?, ?it/s]"
      ]
     },
     "metadata": {},
     "output_type": "display_data"
    },
    {
     "data": {
      "application/vnd.jupyter.widget-view+json": {
       "model_id": "72f10c095f344a9fbeb2a523d26fcb85",
       "version_major": 2,
       "version_minor": 0
      },
      "text/plain": [
       "Processing audio files:   0%|          | 0/14 [00:00<?, ?it/s]"
      ]
     },
     "metadata": {},
     "output_type": "display_data"
    },
    {
     "data": {
      "application/vnd.jupyter.widget-view+json": {
       "model_id": "0cf906a10ffd432db6499c4d25920d4e",
       "version_major": 2,
       "version_minor": 0
      },
      "text/plain": [
       "Processing audio files:   0%|          | 0/4 [00:00<?, ?it/s]"
      ]
     },
     "metadata": {},
     "output_type": "display_data"
    },
    {
     "data": {
      "application/vnd.jupyter.widget-view+json": {
       "model_id": "0d30463ef5af452ba6cc58a3621dafcb",
       "version_major": 2,
       "version_minor": 0
      },
      "text/plain": [
       "Processing audio files:   0%|          | 0/80 [00:00<?, ?it/s]"
      ]
     },
     "metadata": {},
     "output_type": "display_data"
    },
    {
     "data": {
      "application/vnd.jupyter.widget-view+json": {
       "model_id": "e8df23145b454cd5aa919e81116d21a7",
       "version_major": 2,
       "version_minor": 0
      },
      "text/plain": [
       "Processing audio files:   0%|          | 0/377 [00:00<?, ?it/s]"
      ]
     },
     "metadata": {},
     "output_type": "display_data"
    },
    {
     "data": {
      "application/vnd.jupyter.widget-view+json": {
       "model_id": "7cc9a0761b5a4198859062707b457db4",
       "version_major": 2,
       "version_minor": 0
      },
      "text/plain": [
       "Processing audio files:   0%|          | 0/2 [00:00<?, ?it/s]"
      ]
     },
     "metadata": {},
     "output_type": "display_data"
    },
    {
     "data": {
      "application/vnd.jupyter.widget-view+json": {
       "model_id": "91280cb68ade4d5b9f9909695f5aa4d2",
       "version_major": 2,
       "version_minor": 0
      },
      "text/plain": [
       "Processing audio files:   0%|          | 0/201 [00:00<?, ?it/s]"
      ]
     },
     "metadata": {},
     "output_type": "display_data"
    },
    {
     "data": {
      "application/vnd.jupyter.widget-view+json": {
       "model_id": "356f4e6d554a4d0a84c5e237105cebe6",
       "version_major": 2,
       "version_minor": 0
      },
      "text/plain": [
       "Processing audio files:   0%|          | 0/134 [00:00<?, ?it/s]"
      ]
     },
     "metadata": {},
     "output_type": "display_data"
    },
    {
     "data": {
      "application/vnd.jupyter.widget-view+json": {
       "model_id": "e4b55179c8a04932b6156224f8603101",
       "version_major": 2,
       "version_minor": 0
      },
      "text/plain": [
       "Processing audio files:   0%|          | 0/23 [00:00<?, ?it/s]"
      ]
     },
     "metadata": {},
     "output_type": "display_data"
    },
    {
     "data": {
      "application/vnd.jupyter.widget-view+json": {
       "model_id": "fca3c1f42e21442b8b27b7181d7091c8",
       "version_major": 2,
       "version_minor": 0
      },
      "text/plain": [
       "Processing audio files:   0%|          | 0/108 [00:00<?, ?it/s]"
      ]
     },
     "metadata": {},
     "output_type": "display_data"
    },
    {
     "data": {
      "application/vnd.jupyter.widget-view+json": {
       "model_id": "30c74ddb98e844458a25e20dc48a7898",
       "version_major": 2,
       "version_minor": 0
      },
      "text/plain": [
       "Processing audio files:   0%|          | 0/17 [00:00<?, ?it/s]"
      ]
     },
     "metadata": {},
     "output_type": "display_data"
    },
    {
     "data": {
      "application/vnd.jupyter.widget-view+json": {
       "model_id": "77e106d1a1f74a609057a1606a0b26c7",
       "version_major": 2,
       "version_minor": 0
      },
      "text/plain": [
       "Processing audio files:   0%|          | 0/148 [00:00<?, ?it/s]"
      ]
     },
     "metadata": {},
     "output_type": "display_data"
    },
    {
     "data": {
      "application/vnd.jupyter.widget-view+json": {
       "model_id": "d7fe3bfc895d487f8540e03cdd268770",
       "version_major": 2,
       "version_minor": 0
      },
      "text/plain": [
       "Processing audio files:   0%|          | 0/47 [00:00<?, ?it/s]"
      ]
     },
     "metadata": {},
     "output_type": "display_data"
    },
    {
     "data": {
      "application/vnd.jupyter.widget-view+json": {
       "model_id": "9e6758db39f94a4ea26166c38874d1d2",
       "version_major": 2,
       "version_minor": 0
      },
      "text/plain": [
       "Processing audio files:   0%|          | 0/270 [00:00<?, ?it/s]"
      ]
     },
     "metadata": {},
     "output_type": "display_data"
    },
    {
     "data": {
      "application/vnd.jupyter.widget-view+json": {
       "model_id": "a6e398ee4606452694337e5734ad98f6",
       "version_major": 2,
       "version_minor": 0
      },
      "text/plain": [
       "Processing audio files:   0%|          | 0/2 [00:00<?, ?it/s]"
      ]
     },
     "metadata": {},
     "output_type": "display_data"
    },
    {
     "data": {
      "application/vnd.jupyter.widget-view+json": {
       "model_id": "24131daad6c649e4856c9eeff52941dc",
       "version_major": 2,
       "version_minor": 0
      },
      "text/plain": [
       "Processing audio files:   0%|          | 0/210 [00:00<?, ?it/s]"
      ]
     },
     "metadata": {},
     "output_type": "display_data"
    },
    {
     "data": {
      "application/vnd.jupyter.widget-view+json": {
       "model_id": "975c9af24afa4cd886237e5935e7fdb0",
       "version_major": 2,
       "version_minor": 0
      },
      "text/plain": [
       "Processing audio files:   0%|          | 0/10 [00:00<?, ?it/s]"
      ]
     },
     "metadata": {},
     "output_type": "display_data"
    },
    {
     "data": {
      "application/vnd.jupyter.widget-view+json": {
       "model_id": "c12273287d43461f9d80b2a6d403db7b",
       "version_major": 2,
       "version_minor": 0
      },
      "text/plain": [
       "Processing audio files:   0%|          | 0/572 [00:00<?, ?it/s]"
      ]
     },
     "metadata": {},
     "output_type": "display_data"
    },
    {
     "data": {
      "application/vnd.jupyter.widget-view+json": {
       "model_id": "c8a5197c040c42e694a9a6b9ae2a8543",
       "version_major": 2,
       "version_minor": 0
      },
      "text/plain": [
       "Processing audio files:   0%|          | 0/478 [00:00<?, ?it/s]"
      ]
     },
     "metadata": {},
     "output_type": "display_data"
    },
    {
     "data": {
      "application/vnd.jupyter.widget-view+json": {
       "model_id": "5735bedf7650458c8a34ce4e556d5cfb",
       "version_major": 2,
       "version_minor": 0
      },
      "text/plain": [
       "Processing audio files:   0%|          | 0/11 [00:00<?, ?it/s]"
      ]
     },
     "metadata": {},
     "output_type": "display_data"
    },
    {
     "data": {
      "application/vnd.jupyter.widget-view+json": {
       "model_id": "1c7b67dd0f254d94a8c8516b32e4cc16",
       "version_major": 2,
       "version_minor": 0
      },
      "text/plain": [
       "Processing audio files:   0%|          | 0/19 [00:00<?, ?it/s]"
      ]
     },
     "metadata": {},
     "output_type": "display_data"
    },
    {
     "data": {
      "application/vnd.jupyter.widget-view+json": {
       "model_id": "cf60f9cd11c745259addfc0e66db240a",
       "version_major": 2,
       "version_minor": 0
      },
      "text/plain": [
       "Processing audio files:   0%|          | 0/77 [00:00<?, ?it/s]"
      ]
     },
     "metadata": {},
     "output_type": "display_data"
    },
    {
     "data": {
      "application/vnd.jupyter.widget-view+json": {
       "model_id": "4e9f68b9a58c4b9f97c6ecab3fb9c220",
       "version_major": 2,
       "version_minor": 0
      },
      "text/plain": [
       "Processing audio files:   0%|          | 0/246 [00:00<?, ?it/s]"
      ]
     },
     "metadata": {},
     "output_type": "display_data"
    },
    {
     "data": {
      "application/vnd.jupyter.widget-view+json": {
       "model_id": "99f3a22af6664139887c33954d4c0817",
       "version_major": 2,
       "version_minor": 0
      },
      "text/plain": [
       "Processing audio files:   0%|          | 0/3 [00:00<?, ?it/s]"
      ]
     },
     "metadata": {},
     "output_type": "display_data"
    },
    {
     "data": {
      "application/vnd.jupyter.widget-view+json": {
       "model_id": "507d14a010d54ef6af904fafd5f466e4",
       "version_major": 2,
       "version_minor": 0
      },
      "text/plain": [
       "Processing audio files:   0%|          | 0/53 [00:00<?, ?it/s]"
      ]
     },
     "metadata": {},
     "output_type": "display_data"
    },
    {
     "data": {
      "application/vnd.jupyter.widget-view+json": {
       "model_id": "b54de1572df2471ebadd9246194d53fe",
       "version_major": 2,
       "version_minor": 0
      },
      "text/plain": [
       "Processing audio files:   0%|          | 0/138 [00:00<?, ?it/s]"
      ]
     },
     "metadata": {},
     "output_type": "display_data"
    },
    {
     "data": {
      "application/vnd.jupyter.widget-view+json": {
       "model_id": "239419a94a4f4b01828c5aa3a65d919d",
       "version_major": 2,
       "version_minor": 0
      },
      "text/plain": [
       "Processing audio files:   0%|          | 0/238 [00:00<?, ?it/s]"
      ]
     },
     "metadata": {},
     "output_type": "display_data"
    },
    {
     "data": {
      "application/vnd.jupyter.widget-view+json": {
       "model_id": "0b0f5fb05481413e98a828847b95f6a0",
       "version_major": 2,
       "version_minor": 0
      },
      "text/plain": [
       "Processing audio files:   0%|          | 0/94 [00:00<?, ?it/s]"
      ]
     },
     "metadata": {},
     "output_type": "display_data"
    },
    {
     "data": {
      "application/vnd.jupyter.widget-view+json": {
       "model_id": "28cf493787664b9bb58951b71dadd51b",
       "version_major": 2,
       "version_minor": 0
      },
      "text/plain": [
       "Processing audio files:   0%|          | 0/4 [00:00<?, ?it/s]"
      ]
     },
     "metadata": {},
     "output_type": "display_data"
    },
    {
     "data": {
      "application/vnd.jupyter.widget-view+json": {
       "model_id": "d0135f655ee74a419baaa1a7fb4c2799",
       "version_major": 2,
       "version_minor": 0
      },
      "text/plain": [
       "Processing audio files:   0%|          | 0/514 [00:00<?, ?it/s]"
      ]
     },
     "metadata": {},
     "output_type": "display_data"
    },
    {
     "ename": "KeyboardInterrupt",
     "evalue": "",
     "output_type": "error",
     "traceback": [
      "\u001b[31m---------------------------------------------------------------------------\u001b[39m",
      "\u001b[31mKeyboardInterrupt\u001b[39m                         Traceback (most recent call last)",
      "\u001b[36mCell\u001b[39m\u001b[36m \u001b[39m\u001b[32mIn[25]\u001b[39m\u001b[32m, line 6\u001b[39m\n\u001b[32m      2\u001b[39m train_files = glob.glob(\u001b[33m\"\u001b[39m\u001b[33mtrain_audio/**/*.ogg\u001b[39m\u001b[33m\"\u001b[39m, recursive=\u001b[38;5;28;01mTrue\u001b[39;00m)\n\u001b[32m      4\u001b[39m \u001b[38;5;28mprint\u001b[39m(\u001b[33mf\u001b[39m\u001b[33m\"\u001b[39m\u001b[33mFound \u001b[39m\u001b[38;5;132;01m{\u001b[39;00m\u001b[38;5;28mlen\u001b[39m(train_files)\u001b[38;5;132;01m}\u001b[39;00m\u001b[33m audio files\u001b[39m\u001b[33m\"\u001b[39m)\n\u001b[32m----> \u001b[39m\u001b[32m6\u001b[39m train_specs = \u001b[43mprepare_batch\u001b[49m\u001b[43m(\u001b[49m\u001b[43mtrain_files\u001b[49m\u001b[43m,\u001b[49m\u001b[43m \u001b[49m\u001b[43mtraining\u001b[49m\u001b[43m=\u001b[49m\u001b[38;5;28;43;01mTrue\u001b[39;49;00m\u001b[43m)\u001b[49m\n",
      "\u001b[36mCell\u001b[39m\u001b[36m \u001b[39m\u001b[32mIn[24]\u001b[39m\u001b[32m, line 105\u001b[39m, in \u001b[36mprepare_batch\u001b[39m\u001b[34m(audio_files, save_dir, training, show_progress)\u001b[39m\n\u001b[32m    101\u001b[39m (save_dir / folder).mkdir(exist_ok=\u001b[38;5;28;01mTrue\u001b[39;00m)\n\u001b[32m    103\u001b[39m \u001b[38;5;28;01mtry\u001b[39;00m:\n\u001b[32m    104\u001b[39m     \u001b[38;5;66;03m# Process audio file\u001b[39;00m\n\u001b[32m--> \u001b[39m\u001b[32m105\u001b[39m     spec = \u001b[43mpreprocessor\u001b[49m\u001b[43m.\u001b[49m\u001b[43mprocess_audio\u001b[49m\u001b[43m(\u001b[49m\u001b[43maudio_file\u001b[49m\u001b[43m)\u001b[49m\n\u001b[32m    107\u001b[39m     \u001b[38;5;66;03m# Data augmentation\u001b[39;00m\n\u001b[32m    108\u001b[39m     spec = preprocessor.augment_spectrogram(spec, ambient_specs)\n",
      "\u001b[36mCell\u001b[39m\u001b[36m \u001b[39m\u001b[32mIn[23]\u001b[39m\u001b[32m, line 59\u001b[39m, in \u001b[36mBirdSongPreprocessor.process_audio\u001b[39m\u001b[34m(self, audio_path, segment_duration)\u001b[39m\n\u001b[32m     56\u001b[39m segment_samples = \u001b[38;5;28mint\u001b[39m(segment_duration * \u001b[38;5;28mself\u001b[39m.sample_rate)\n\u001b[32m     58\u001b[39m \u001b[38;5;66;03m# Extract segments with bird sounds\u001b[39;00m\n\u001b[32m---> \u001b[39m\u001b[32m59\u001b[39m signal_mask = \u001b[38;5;28;43mself\u001b[39;49m\u001b[43m.\u001b[49m\u001b[43mextract_signal_segments\u001b[49m\u001b[43m(\u001b[49m\u001b[43mwaveform\u001b[49m\u001b[43m)\u001b[49m\n\u001b[32m     61\u001b[39m \u001b[38;5;66;03m# Find continuous segments where signal is present\u001b[39;00m\n\u001b[32m     62\u001b[39m segments = []\n",
      "\u001b[36mCell\u001b[39m\u001b[36m \u001b[39m\u001b[32mIn[23]\u001b[39m\u001b[32m, line 32\u001b[39m, in \u001b[36mBirdSongPreprocessor.extract_signal_segments\u001b[39m\u001b[34m(self, waveform, threshold)\u001b[39m\n\u001b[32m     27\u001b[39m \u001b[38;5;250m\u001b[39m\u001b[33;03m\"\"\"\u001b[39;00m\n\u001b[32m     28\u001b[39m \u001b[33;03mExtract segments containing bird vocalizations based on signal strength\u001b[39;00m\n\u001b[32m     29\u001b[39m \u001b[33;03mSimilar to Sprengel et al., 2016 approach mentioned in the paper\u001b[39;00m\n\u001b[32m     30\u001b[39m \u001b[33;03m\"\"\"\u001b[39;00m\n\u001b[32m     31\u001b[39m \u001b[38;5;66;03m# Convert to spectrogram\u001b[39;00m\n\u001b[32m---> \u001b[39m\u001b[32m32\u001b[39m spec = \u001b[38;5;28;43mself\u001b[39;49m\u001b[43m.\u001b[49m\u001b[43mmel_spectrogram\u001b[49m\u001b[43m(\u001b[49m\u001b[43mwaveform\u001b[49m\u001b[43m)\u001b[49m\n\u001b[32m     34\u001b[39m \u001b[38;5;66;03m# Calculate signal strength (simplified version)\u001b[39;00m\n\u001b[32m     35\u001b[39m signal_strength = torch.mean(spec, dim=\u001b[32m1\u001b[39m)  \u001b[38;5;66;03m# Average across frequency bins\u001b[39;00m\n",
      "\u001b[36mFile \u001b[39m\u001b[32m~/.local/share/mamba/envs/birdclef/lib/python3.13/site-packages/torch/nn/modules/module.py:1751\u001b[39m, in \u001b[36mModule._wrapped_call_impl\u001b[39m\u001b[34m(self, *args, **kwargs)\u001b[39m\n\u001b[32m   1749\u001b[39m     \u001b[38;5;28;01mreturn\u001b[39;00m \u001b[38;5;28mself\u001b[39m._compiled_call_impl(*args, **kwargs)  \u001b[38;5;66;03m# type: ignore[misc]\u001b[39;00m\n\u001b[32m   1750\u001b[39m \u001b[38;5;28;01melse\u001b[39;00m:\n\u001b[32m-> \u001b[39m\u001b[32m1751\u001b[39m     \u001b[38;5;28;01mreturn\u001b[39;00m \u001b[38;5;28;43mself\u001b[39;49m\u001b[43m.\u001b[49m\u001b[43m_call_impl\u001b[49m\u001b[43m(\u001b[49m\u001b[43m*\u001b[49m\u001b[43margs\u001b[49m\u001b[43m,\u001b[49m\u001b[43m \u001b[49m\u001b[43m*\u001b[49m\u001b[43m*\u001b[49m\u001b[43mkwargs\u001b[49m\u001b[43m)\u001b[49m\n",
      "\u001b[36mFile \u001b[39m\u001b[32m~/.local/share/mamba/envs/birdclef/lib/python3.13/site-packages/torch/nn/modules/module.py:1762\u001b[39m, in \u001b[36mModule._call_impl\u001b[39m\u001b[34m(self, *args, **kwargs)\u001b[39m\n\u001b[32m   1757\u001b[39m \u001b[38;5;66;03m# If we don't have any hooks, we want to skip the rest of the logic in\u001b[39;00m\n\u001b[32m   1758\u001b[39m \u001b[38;5;66;03m# this function, and just call forward.\u001b[39;00m\n\u001b[32m   1759\u001b[39m \u001b[38;5;28;01mif\u001b[39;00m \u001b[38;5;129;01mnot\u001b[39;00m (\u001b[38;5;28mself\u001b[39m._backward_hooks \u001b[38;5;129;01mor\u001b[39;00m \u001b[38;5;28mself\u001b[39m._backward_pre_hooks \u001b[38;5;129;01mor\u001b[39;00m \u001b[38;5;28mself\u001b[39m._forward_hooks \u001b[38;5;129;01mor\u001b[39;00m \u001b[38;5;28mself\u001b[39m._forward_pre_hooks\n\u001b[32m   1760\u001b[39m         \u001b[38;5;129;01mor\u001b[39;00m _global_backward_pre_hooks \u001b[38;5;129;01mor\u001b[39;00m _global_backward_hooks\n\u001b[32m   1761\u001b[39m         \u001b[38;5;129;01mor\u001b[39;00m _global_forward_hooks \u001b[38;5;129;01mor\u001b[39;00m _global_forward_pre_hooks):\n\u001b[32m-> \u001b[39m\u001b[32m1762\u001b[39m     \u001b[38;5;28;01mreturn\u001b[39;00m \u001b[43mforward_call\u001b[49m\u001b[43m(\u001b[49m\u001b[43m*\u001b[49m\u001b[43margs\u001b[49m\u001b[43m,\u001b[49m\u001b[43m \u001b[49m\u001b[43m*\u001b[49m\u001b[43m*\u001b[49m\u001b[43mkwargs\u001b[49m\u001b[43m)\u001b[49m\n\u001b[32m   1764\u001b[39m result = \u001b[38;5;28;01mNone\u001b[39;00m\n\u001b[32m   1765\u001b[39m called_always_called_hooks = \u001b[38;5;28mset\u001b[39m()\n",
      "\u001b[36mFile \u001b[39m\u001b[32m~/.local/share/mamba/envs/birdclef/lib/python3.13/site-packages/torchaudio/transforms/_transforms.py:619\u001b[39m, in \u001b[36mMelSpectrogram.forward\u001b[39m\u001b[34m(self, waveform)\u001b[39m\n\u001b[32m    611\u001b[39m \u001b[38;5;28;01mdef\u001b[39;00m\u001b[38;5;250m \u001b[39m\u001b[34mforward\u001b[39m(\u001b[38;5;28mself\u001b[39m, waveform: Tensor) -> Tensor:\n\u001b[32m    612\u001b[39m \u001b[38;5;250m    \u001b[39m\u001b[33mr\u001b[39m\u001b[33;03m\"\"\"\u001b[39;00m\n\u001b[32m    613\u001b[39m \u001b[33;03m    Args:\u001b[39;00m\n\u001b[32m    614\u001b[39m \u001b[33;03m        waveform (Tensor): Tensor of audio of dimension (..., time).\u001b[39;00m\n\u001b[32m   (...)\u001b[39m\u001b[32m    617\u001b[39m \u001b[33;03m        Tensor: Mel frequency spectrogram of size (..., ``n_mels``, time).\u001b[39;00m\n\u001b[32m    618\u001b[39m \u001b[33;03m    \"\"\"\u001b[39;00m\n\u001b[32m--> \u001b[39m\u001b[32m619\u001b[39m     specgram = \u001b[38;5;28;43mself\u001b[39;49m\u001b[43m.\u001b[49m\u001b[43mspectrogram\u001b[49m\u001b[43m(\u001b[49m\u001b[43mwaveform\u001b[49m\u001b[43m)\u001b[49m\n\u001b[32m    620\u001b[39m     mel_specgram = \u001b[38;5;28mself\u001b[39m.mel_scale(specgram)\n\u001b[32m    621\u001b[39m     \u001b[38;5;28;01mreturn\u001b[39;00m mel_specgram\n",
      "\u001b[36mFile \u001b[39m\u001b[32m~/.local/share/mamba/envs/birdclef/lib/python3.13/site-packages/torch/nn/modules/module.py:1751\u001b[39m, in \u001b[36mModule._wrapped_call_impl\u001b[39m\u001b[34m(self, *args, **kwargs)\u001b[39m\n\u001b[32m   1749\u001b[39m     \u001b[38;5;28;01mreturn\u001b[39;00m \u001b[38;5;28mself\u001b[39m._compiled_call_impl(*args, **kwargs)  \u001b[38;5;66;03m# type: ignore[misc]\u001b[39;00m\n\u001b[32m   1750\u001b[39m \u001b[38;5;28;01melse\u001b[39;00m:\n\u001b[32m-> \u001b[39m\u001b[32m1751\u001b[39m     \u001b[38;5;28;01mreturn\u001b[39;00m \u001b[38;5;28;43mself\u001b[39;49m\u001b[43m.\u001b[49m\u001b[43m_call_impl\u001b[49m\u001b[43m(\u001b[49m\u001b[43m*\u001b[49m\u001b[43margs\u001b[49m\u001b[43m,\u001b[49m\u001b[43m \u001b[49m\u001b[43m*\u001b[49m\u001b[43m*\u001b[49m\u001b[43mkwargs\u001b[49m\u001b[43m)\u001b[49m\n",
      "\u001b[36mFile \u001b[39m\u001b[32m~/.local/share/mamba/envs/birdclef/lib/python3.13/site-packages/torch/nn/modules/module.py:1762\u001b[39m, in \u001b[36mModule._call_impl\u001b[39m\u001b[34m(self, *args, **kwargs)\u001b[39m\n\u001b[32m   1757\u001b[39m \u001b[38;5;66;03m# If we don't have any hooks, we want to skip the rest of the logic in\u001b[39;00m\n\u001b[32m   1758\u001b[39m \u001b[38;5;66;03m# this function, and just call forward.\u001b[39;00m\n\u001b[32m   1759\u001b[39m \u001b[38;5;28;01mif\u001b[39;00m \u001b[38;5;129;01mnot\u001b[39;00m (\u001b[38;5;28mself\u001b[39m._backward_hooks \u001b[38;5;129;01mor\u001b[39;00m \u001b[38;5;28mself\u001b[39m._backward_pre_hooks \u001b[38;5;129;01mor\u001b[39;00m \u001b[38;5;28mself\u001b[39m._forward_hooks \u001b[38;5;129;01mor\u001b[39;00m \u001b[38;5;28mself\u001b[39m._forward_pre_hooks\n\u001b[32m   1760\u001b[39m         \u001b[38;5;129;01mor\u001b[39;00m _global_backward_pre_hooks \u001b[38;5;129;01mor\u001b[39;00m _global_backward_hooks\n\u001b[32m   1761\u001b[39m         \u001b[38;5;129;01mor\u001b[39;00m _global_forward_hooks \u001b[38;5;129;01mor\u001b[39;00m _global_forward_pre_hooks):\n\u001b[32m-> \u001b[39m\u001b[32m1762\u001b[39m     \u001b[38;5;28;01mreturn\u001b[39;00m \u001b[43mforward_call\u001b[49m\u001b[43m(\u001b[49m\u001b[43m*\u001b[49m\u001b[43margs\u001b[49m\u001b[43m,\u001b[49m\u001b[43m \u001b[49m\u001b[43m*\u001b[49m\u001b[43m*\u001b[49m\u001b[43mkwargs\u001b[49m\u001b[43m)\u001b[49m\n\u001b[32m   1764\u001b[39m result = \u001b[38;5;28;01mNone\u001b[39;00m\n\u001b[32m   1765\u001b[39m called_always_called_hooks = \u001b[38;5;28mset\u001b[39m()\n",
      "\u001b[36mFile \u001b[39m\u001b[32m~/.local/share/mamba/envs/birdclef/lib/python3.13/site-packages/torchaudio/transforms/_transforms.py:110\u001b[39m, in \u001b[36mSpectrogram.forward\u001b[39m\u001b[34m(self, waveform)\u001b[39m\n\u001b[32m    100\u001b[39m \u001b[38;5;28;01mdef\u001b[39;00m\u001b[38;5;250m \u001b[39m\u001b[34mforward\u001b[39m(\u001b[38;5;28mself\u001b[39m, waveform: Tensor) -> Tensor:\n\u001b[32m    101\u001b[39m \u001b[38;5;250m    \u001b[39m\u001b[33mr\u001b[39m\u001b[33;03m\"\"\"\u001b[39;00m\n\u001b[32m    102\u001b[39m \u001b[33;03m    Args:\u001b[39;00m\n\u001b[32m    103\u001b[39m \u001b[33;03m        waveform (Tensor): Tensor of audio of dimension (..., time).\u001b[39;00m\n\u001b[32m   (...)\u001b[39m\u001b[32m    108\u001b[39m \u001b[33;03m        Fourier bins, and time is the number of window hops (n_frame).\u001b[39;00m\n\u001b[32m    109\u001b[39m \u001b[33;03m    \"\"\"\u001b[39;00m\n\u001b[32m--> \u001b[39m\u001b[32m110\u001b[39m     \u001b[38;5;28;01mreturn\u001b[39;00m \u001b[43mF\u001b[49m\u001b[43m.\u001b[49m\u001b[43mspectrogram\u001b[49m\u001b[43m(\u001b[49m\n\u001b[32m    111\u001b[39m \u001b[43m        \u001b[49m\u001b[43mwaveform\u001b[49m\u001b[43m,\u001b[49m\n\u001b[32m    112\u001b[39m \u001b[43m        \u001b[49m\u001b[38;5;28;43mself\u001b[39;49m\u001b[43m.\u001b[49m\u001b[43mpad\u001b[49m\u001b[43m,\u001b[49m\n\u001b[32m    113\u001b[39m \u001b[43m        \u001b[49m\u001b[38;5;28;43mself\u001b[39;49m\u001b[43m.\u001b[49m\u001b[43mwindow\u001b[49m\u001b[43m,\u001b[49m\n\u001b[32m    114\u001b[39m \u001b[43m        \u001b[49m\u001b[38;5;28;43mself\u001b[39;49m\u001b[43m.\u001b[49m\u001b[43mn_fft\u001b[49m\u001b[43m,\u001b[49m\n\u001b[32m    115\u001b[39m \u001b[43m        \u001b[49m\u001b[38;5;28;43mself\u001b[39;49m\u001b[43m.\u001b[49m\u001b[43mhop_length\u001b[49m\u001b[43m,\u001b[49m\n\u001b[32m    116\u001b[39m \u001b[43m        \u001b[49m\u001b[38;5;28;43mself\u001b[39;49m\u001b[43m.\u001b[49m\u001b[43mwin_length\u001b[49m\u001b[43m,\u001b[49m\n\u001b[32m    117\u001b[39m \u001b[43m        \u001b[49m\u001b[38;5;28;43mself\u001b[39;49m\u001b[43m.\u001b[49m\u001b[43mpower\u001b[49m\u001b[43m,\u001b[49m\n\u001b[32m    118\u001b[39m \u001b[43m        \u001b[49m\u001b[38;5;28;43mself\u001b[39;49m\u001b[43m.\u001b[49m\u001b[43mnormalized\u001b[49m\u001b[43m,\u001b[49m\n\u001b[32m    119\u001b[39m \u001b[43m        \u001b[49m\u001b[38;5;28;43mself\u001b[39;49m\u001b[43m.\u001b[49m\u001b[43mcenter\u001b[49m\u001b[43m,\u001b[49m\n\u001b[32m    120\u001b[39m \u001b[43m        \u001b[49m\u001b[38;5;28;43mself\u001b[39;49m\u001b[43m.\u001b[49m\u001b[43mpad_mode\u001b[49m\u001b[43m,\u001b[49m\n\u001b[32m    121\u001b[39m \u001b[43m        \u001b[49m\u001b[38;5;28;43mself\u001b[39;49m\u001b[43m.\u001b[49m\u001b[43monesided\u001b[49m\u001b[43m,\u001b[49m\n\u001b[32m    122\u001b[39m \u001b[43m    \u001b[49m\u001b[43m)\u001b[49m\n",
      "\u001b[36mFile \u001b[39m\u001b[32m~/.local/share/mamba/envs/birdclef/lib/python3.13/site-packages/torchaudio/functional/functional.py:126\u001b[39m, in \u001b[36mspectrogram\u001b[39m\u001b[34m(waveform, pad, window, n_fft, hop_length, win_length, power, normalized, center, pad_mode, onesided, return_complex)\u001b[39m\n\u001b[32m    123\u001b[39m waveform = waveform.reshape(-\u001b[32m1\u001b[39m, shape[-\u001b[32m1\u001b[39m])\n\u001b[32m    125\u001b[39m \u001b[38;5;66;03m# default values are consistent with librosa.core.spectrum._spectrogram\u001b[39;00m\n\u001b[32m--> \u001b[39m\u001b[32m126\u001b[39m spec_f = \u001b[43mtorch\u001b[49m\u001b[43m.\u001b[49m\u001b[43mstft\u001b[49m\u001b[43m(\u001b[49m\n\u001b[32m    127\u001b[39m \u001b[43m    \u001b[49m\u001b[38;5;28;43minput\u001b[39;49m\u001b[43m=\u001b[49m\u001b[43mwaveform\u001b[49m\u001b[43m,\u001b[49m\n\u001b[32m    128\u001b[39m \u001b[43m    \u001b[49m\u001b[43mn_fft\u001b[49m\u001b[43m=\u001b[49m\u001b[43mn_fft\u001b[49m\u001b[43m,\u001b[49m\n\u001b[32m    129\u001b[39m \u001b[43m    \u001b[49m\u001b[43mhop_length\u001b[49m\u001b[43m=\u001b[49m\u001b[43mhop_length\u001b[49m\u001b[43m,\u001b[49m\n\u001b[32m    130\u001b[39m \u001b[43m    \u001b[49m\u001b[43mwin_length\u001b[49m\u001b[43m=\u001b[49m\u001b[43mwin_length\u001b[49m\u001b[43m,\u001b[49m\n\u001b[32m    131\u001b[39m \u001b[43m    \u001b[49m\u001b[43mwindow\u001b[49m\u001b[43m=\u001b[49m\u001b[43mwindow\u001b[49m\u001b[43m,\u001b[49m\n\u001b[32m    132\u001b[39m \u001b[43m    \u001b[49m\u001b[43mcenter\u001b[49m\u001b[43m=\u001b[49m\u001b[43mcenter\u001b[49m\u001b[43m,\u001b[49m\n\u001b[32m    133\u001b[39m \u001b[43m    \u001b[49m\u001b[43mpad_mode\u001b[49m\u001b[43m=\u001b[49m\u001b[43mpad_mode\u001b[49m\u001b[43m,\u001b[49m\n\u001b[32m    134\u001b[39m \u001b[43m    \u001b[49m\u001b[43mnormalized\u001b[49m\u001b[43m=\u001b[49m\u001b[43mframe_length_norm\u001b[49m\u001b[43m,\u001b[49m\n\u001b[32m    135\u001b[39m \u001b[43m    \u001b[49m\u001b[43monesided\u001b[49m\u001b[43m=\u001b[49m\u001b[43monesided\u001b[49m\u001b[43m,\u001b[49m\n\u001b[32m    136\u001b[39m \u001b[43m    \u001b[49m\u001b[43mreturn_complex\u001b[49m\u001b[43m=\u001b[49m\u001b[38;5;28;43;01mTrue\u001b[39;49;00m\u001b[43m,\u001b[49m\n\u001b[32m    137\u001b[39m \u001b[43m\u001b[49m\u001b[43m)\u001b[49m\n\u001b[32m    139\u001b[39m \u001b[38;5;66;03m# unpack batch\u001b[39;00m\n\u001b[32m    140\u001b[39m spec_f = spec_f.reshape(shape[:-\u001b[32m1\u001b[39m] + spec_f.shape[-\u001b[32m2\u001b[39m:])\n",
      "\u001b[36mFile \u001b[39m\u001b[32m~/.local/share/mamba/envs/birdclef/lib/python3.13/site-packages/torch/functional.py:730\u001b[39m, in \u001b[36mstft\u001b[39m\u001b[34m(input, n_fft, hop_length, win_length, window, center, pad_mode, normalized, onesided, return_complex, align_to_window)\u001b[39m\n\u001b[32m    728\u001b[39m     \u001b[38;5;28minput\u001b[39m = F.pad(\u001b[38;5;28minput\u001b[39m.view(extended_shape), [pad, pad], pad_mode)\n\u001b[32m    729\u001b[39m     \u001b[38;5;28minput\u001b[39m = \u001b[38;5;28minput\u001b[39m.view(\u001b[38;5;28minput\u001b[39m.shape[-signal_dim:])\n\u001b[32m--> \u001b[39m\u001b[32m730\u001b[39m \u001b[38;5;28;01mreturn\u001b[39;00m \u001b[43m_VF\u001b[49m\u001b[43m.\u001b[49m\u001b[43mstft\u001b[49m\u001b[43m(\u001b[49m\u001b[43m  \u001b[49m\u001b[38;5;66;43;03m# type: ignore[attr-defined]\u001b[39;49;00m\n\u001b[32m    731\u001b[39m \u001b[43m    \u001b[49m\u001b[38;5;28;43minput\u001b[39;49m\u001b[43m,\u001b[49m\n\u001b[32m    732\u001b[39m \u001b[43m    \u001b[49m\u001b[43mn_fft\u001b[49m\u001b[43m,\u001b[49m\n\u001b[32m    733\u001b[39m \u001b[43m    \u001b[49m\u001b[43mhop_length\u001b[49m\u001b[43m,\u001b[49m\n\u001b[32m    734\u001b[39m \u001b[43m    \u001b[49m\u001b[43mwin_length\u001b[49m\u001b[43m,\u001b[49m\n\u001b[32m    735\u001b[39m \u001b[43m    \u001b[49m\u001b[43mwindow\u001b[49m\u001b[43m,\u001b[49m\n\u001b[32m    736\u001b[39m \u001b[43m    \u001b[49m\u001b[43mnormalized\u001b[49m\u001b[43m,\u001b[49m\n\u001b[32m    737\u001b[39m \u001b[43m    \u001b[49m\u001b[43monesided\u001b[49m\u001b[43m,\u001b[49m\n\u001b[32m    738\u001b[39m \u001b[43m    \u001b[49m\u001b[43mreturn_complex\u001b[49m\u001b[43m,\u001b[49m\n\u001b[32m    739\u001b[39m \u001b[43m    \u001b[49m\u001b[43malign_to_window\u001b[49m\u001b[43m,\u001b[49m\n\u001b[32m    740\u001b[39m \u001b[43m\u001b[49m\u001b[43m)\u001b[49m\n",
      "\u001b[31mKeyboardInterrupt\u001b[39m: "
     ]
    }
   ],
   "source": [
    "# Get all .ogg files recursively\n",
    "train_files = glob.glob(\"data/train_audio/**/*.ogg\", recursive=True)\n",
    "\n",
    "print(f\"Found {len(train_files)} audio files\")\n",
    "\n",
    "train_specs = prepare_batch(train_files, training=True)"
   ]
  }
 ],
 "metadata": {
  "kernelspec": {
   "display_name": "Python 3 (ipykernel)",
   "language": "python",
   "name": "python3"
  },
  "language_info": {
   "codemirror_mode": {
    "name": "ipython",
    "version": 3
   },
   "file_extension": ".py",
   "mimetype": "text/x-python",
   "name": "python",
   "nbconvert_exporter": "python",
   "pygments_lexer": "ipython3",
   "version": "3.13.3"
  }
 },
 "nbformat": 4,
 "nbformat_minor": 2
}
